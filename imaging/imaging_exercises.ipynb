{
 "cells": [
  {
   "cell_type": "code",
   "execution_count": null,
   "metadata": {},
   "outputs": [],
   "source": [
    "##Imaging Analysis Exercises:\n",
    "\n",
    "# 1. Overlay Response traces for the additional 2 tif stacks (from alldt_animal1.pck). \n",
    "#(You can use ROI from the morning and apply it to the other tif stacks)\n",
    " \n",
    "#2. Determine calcium responses to stimulation in other the other 4 A08A segments. \n",
    "# How do these compare with stimulated segment (segment 3)?\n",
    "#(You will need to define distinct ROIS and extract changes in fluorescence from the tifstack).\n",
    "#\n",
    "# 3. Read in distinct data file (tif_data:'animal3dt.pck','meta_data_animal3.pck') \n",
    "#Create ROIs and determine calcium response for each segment "
   ]
  }
 ],
 "metadata": {
  "kernelspec": {
   "display_name": "Python 3",
   "language": "python",
   "name": "python3"
  },
  "language_info": {
   "codemirror_mode": {
    "name": "ipython",
    "version": 3
   },
   "file_extension": ".py",
   "mimetype": "text/x-python",
   "name": "python",
   "nbconvert_exporter": "python",
   "pygments_lexer": "ipython3",
   "version": "3.7.1"
  }
 },
 "nbformat": 4,
 "nbformat_minor": 2
}
