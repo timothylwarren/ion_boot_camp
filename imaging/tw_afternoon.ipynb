{
 "cells": [
  {
   "cell_type": "code",
   "execution_count": 1,
   "metadata": {},
   "outputs": [
    {
     "data": {
      "text/plain": [
       "12"
      ]
     },
     "execution_count": 1,
     "metadata": {},
     "output_type": "execute_result"
    }
   ],
   "source": [
    "7+5"
   ]
  },
  {
   "cell_type": "code",
   "execution_count": 2,
   "metadata": {},
   "outputs": [],
   "source": [
    "list_of_fruit=['oranges','apples','kiwi']"
   ]
  },
  {
   "cell_type": "code",
   "execution_count": 3,
   "metadata": {},
   "outputs": [
    {
     "name": "stdout",
     "output_type": "stream",
     "text": [
      "['oranges', 'apples', 'kiwi']\n"
     ]
    }
   ],
   "source": [
    "print(list_of_fruit)"
   ]
  },
  {
   "cell_type": "code",
   "execution_count": 4,
   "metadata": {},
   "outputs": [
    {
     "name": "stdout",
     "output_type": "stream",
     "text": [
      "oranges\n"
     ]
    }
   ],
   "source": [
    "print('oranges')"
   ]
  },
  {
   "cell_type": "code",
   "execution_count": 5,
   "metadata": {},
   "outputs": [
    {
     "data": {
      "text/plain": [
       "'oranges'"
      ]
     },
     "execution_count": 5,
     "metadata": {},
     "output_type": "execute_result"
    }
   ],
   "source": [
    "list_of_fruit[0]"
   ]
  },
  {
   "cell_type": "code",
   "execution_count": 7,
   "metadata": {},
   "outputs": [
    {
     "data": {
      "text/plain": [
       "['oranges', 'apples', 'kiwi']"
      ]
     },
     "execution_count": 7,
     "metadata": {},
     "output_type": "execute_result"
    }
   ],
   "source": [
    "list_of_fruit"
   ]
  },
  {
   "cell_type": "code",
   "execution_count": 8,
   "metadata": {},
   "outputs": [],
   "source": [
    "list_of_fruit.append(7)"
   ]
  },
  {
   "cell_type": "code",
   "execution_count": 9,
   "metadata": {},
   "outputs": [
    {
     "data": {
      "text/plain": [
       "['oranges', 'apples', 'kiwi', 7]"
      ]
     },
     "execution_count": 9,
     "metadata": {},
     "output_type": "execute_result"
    }
   ],
   "source": [
    "list_of_fruit"
   ]
  },
  {
   "cell_type": "code",
   "execution_count": 10,
   "metadata": {},
   "outputs": [
    {
     "data": {
      "text/plain": [
       "7"
      ]
     },
     "execution_count": 10,
     "metadata": {},
     "output_type": "execute_result"
    }
   ],
   "source": [
    "list_of_fruit[3]"
   ]
  },
  {
   "cell_type": "code",
   "execution_count": 11,
   "metadata": {},
   "outputs": [
    {
     "data": {
      "text/plain": [
       "['oranges', 'apples']"
      ]
     },
     "execution_count": 11,
     "metadata": {},
     "output_type": "execute_result"
    }
   ],
   "source": [
    "list_of_fruit[0:2]"
   ]
  },
  {
   "cell_type": "code",
   "execution_count": 12,
   "metadata": {},
   "outputs": [
    {
     "data": {
      "text/plain": [
       "['oranges', 'apples', 'kiwi']"
      ]
     },
     "execution_count": 12,
     "metadata": {},
     "output_type": "execute_result"
    }
   ],
   "source": [
    "list_of_fruit[0:3]"
   ]
  },
  {
   "cell_type": "code",
   "execution_count": 13,
   "metadata": {},
   "outputs": [],
   "source": [
    "import numpy"
   ]
  },
  {
   "cell_type": "code",
   "execution_count": 36,
   "metadata": {},
   "outputs": [],
   "source": [
    "A=numpy.zeros((2,2))"
   ]
  },
  {
   "cell_type": "code",
   "execution_count": 18,
   "metadata": {},
   "outputs": [
    {
     "data": {
      "text/plain": [
       "(2, 2)"
      ]
     },
     "execution_count": 18,
     "metadata": {},
     "output_type": "execute_result"
    }
   ],
   "source": [
    "numpy.shape(A)"
   ]
  },
  {
   "cell_type": "code",
   "execution_count": 19,
   "metadata": {},
   "outputs": [
    {
     "data": {
      "text/plain": [
       "array([[0., 0.],\n",
       "       [0., 0.]])"
      ]
     },
     "execution_count": 19,
     "metadata": {},
     "output_type": "execute_result"
    }
   ],
   "source": [
    "A"
   ]
  },
  {
   "cell_type": "code",
   "execution_count": 20,
   "metadata": {},
   "outputs": [],
   "source": [
    "A[0,1]=1"
   ]
  },
  {
   "cell_type": "code",
   "execution_count": 21,
   "metadata": {},
   "outputs": [
    {
     "data": {
      "text/plain": [
       "array([[0., 1.],\n",
       "       [0., 0.]])"
      ]
     },
     "execution_count": 21,
     "metadata": {},
     "output_type": "execute_result"
    }
   ],
   "source": [
    "A"
   ]
  },
  {
   "cell_type": "code",
   "execution_count": 22,
   "metadata": {},
   "outputs": [],
   "source": [
    "A[1,0]=1"
   ]
  },
  {
   "cell_type": "code",
   "execution_count": 23,
   "metadata": {},
   "outputs": [
    {
     "data": {
      "text/plain": [
       "array([[0., 1.],\n",
       "       [1., 0.]])"
      ]
     },
     "execution_count": 23,
     "metadata": {},
     "output_type": "execute_result"
    }
   ],
   "source": [
    "A"
   ]
  },
  {
   "cell_type": "code",
   "execution_count": 1,
   "metadata": {},
   "outputs": [],
   "source": [
    "import matplotlib.pyplot as plt"
   ]
  },
  {
   "cell_type": "code",
   "execution_count": 27,
   "metadata": {},
   "outputs": [
    {
     "data": {
      "text/plain": [
       "<matplotlib.colorbar.Colorbar at 0x115e08e80>"
      ]
     },
     "execution_count": 27,
     "metadata": {},
     "output_type": "execute_result"
    },
    {
     "data": {
      "image/png": "[encoded data removed]",
      "text/plain": [
       "<Figure size 432x288 with 2 Axes>"
      ]
     },
     "metadata": {
      "needs_background": "light"
     },
     "output_type": "display_data"
    }
   ],
   "source": [
    "plt.imshow(A)\n",
    "plt.colorbar()"
   ]
  },
  {
   "cell_type": "code",
   "execution_count": 28,
   "metadata": {},
   "outputs": [
    {
     "data": {
      "text/plain": [
       "array([[0., 1.],\n",
       "       [1., 0.]])"
      ]
     },
     "execution_count": 28,
     "metadata": {},
     "output_type": "execute_result"
    }
   ],
   "source": [
    "A"
   ]
  },
  {
   "cell_type": "code",
   "execution_count": 29,
   "metadata": {},
   "outputs": [],
   "source": [
    "A[1,0]=.2"
   ]
  },
  {
   "cell_type": "code",
   "execution_count": 30,
   "metadata": {},
   "outputs": [
    {
     "data": {
      "text/plain": [
       "array([[0. , 1. ],\n",
       "       [0.2, 0. ]])"
      ]
     },
     "execution_count": 30,
     "metadata": {},
     "output_type": "execute_result"
    }
   ],
   "source": [
    "A"
   ]
  },
  {
   "cell_type": "code",
   "execution_count": 31,
   "metadata": {},
   "outputs": [
    {
     "data": {
      "text/plain": [
       "0.3"
      ]
     },
     "execution_count": 31,
     "metadata": {},
     "output_type": "execute_result"
    }
   ],
   "source": [
    "numpy.mean(A)"
   ]
  },
  {
   "cell_type": "code",
   "execution_count": 32,
   "metadata": {},
   "outputs": [],
   "source": [
    "A=numpy.mean(A,axis=0)"
   ]
  },
  {
   "cell_type": "code",
   "execution_count": 33,
   "metadata": {},
   "outputs": [
    {
     "data": {
      "text/plain": [
       "array([0.1, 0.5])"
      ]
     },
     "execution_count": 33,
     "metadata": {},
     "output_type": "execute_result"
    }
   ],
   "source": [
    "A"
   ]
  },
  {
   "cell_type": "code",
   "execution_count": 35,
   "metadata": {},
   "outputs": [
    {
     "ename": "IndexError",
     "evalue": "tuple index out of range",
     "output_type": "error",
     "traceback": [
      "\u001b[0;31m---------------------------------------------------------------------------\u001b[0m",
      "\u001b[0;31mIndexError\u001b[0m                                Traceback (most recent call last)",
      "\u001b[0;32m<ipython-input-35-3e33a014db5b>\u001b[0m in \u001b[0;36m<module>\u001b[0;34m\u001b[0m\n\u001b[0;32m----> 1\u001b[0;31m \u001b[0mnumpy\u001b[0m\u001b[0;34m.\u001b[0m\u001b[0mmean\u001b[0m\u001b[0;34m(\u001b[0m\u001b[0mA\u001b[0m\u001b[0;34m,\u001b[0m\u001b[0maxis\u001b[0m\u001b[0;34m=\u001b[0m\u001b[0;36m1\u001b[0m\u001b[0;34m)\u001b[0m\u001b[0;34m\u001b[0m\u001b[0;34m\u001b[0m\u001b[0m\n\u001b[0m",
      "\u001b[0;32m<__array_function__ internals>\u001b[0m in \u001b[0;36mmean\u001b[0;34m(*args, **kwargs)\u001b[0m\n",
      "\u001b[0;32m~/anaconda3/lib/python3.7/site-packages/numpy/core/fromnumeric.py\u001b[0m in \u001b[0;36mmean\u001b[0;34m(a, axis, dtype, out, keepdims)\u001b[0m\n\u001b[1;32m   3255\u001b[0m \u001b[0;34m\u001b[0m\u001b[0m\n\u001b[1;32m   3256\u001b[0m     return _methods._mean(a, axis=axis, dtype=dtype,\n\u001b[0;32m-> 3257\u001b[0;31m                           out=out, **kwargs)\n\u001b[0m\u001b[1;32m   3258\u001b[0m \u001b[0;34m\u001b[0m\u001b[0m\n\u001b[1;32m   3259\u001b[0m \u001b[0;34m\u001b[0m\u001b[0m\n",
      "\u001b[0;32m~/anaconda3/lib/python3.7/site-packages/numpy/core/_methods.py\u001b[0m in \u001b[0;36m_mean\u001b[0;34m(a, axis, dtype, out, keepdims)\u001b[0m\n\u001b[1;32m    136\u001b[0m \u001b[0;34m\u001b[0m\u001b[0m\n\u001b[1;32m    137\u001b[0m     \u001b[0mis_float16_result\u001b[0m \u001b[0;34m=\u001b[0m \u001b[0;32mFalse\u001b[0m\u001b[0;34m\u001b[0m\u001b[0;34m\u001b[0m\u001b[0m\n\u001b[0;32m--> 138\u001b[0;31m     \u001b[0mrcount\u001b[0m \u001b[0;34m=\u001b[0m \u001b[0m_count_reduce_items\u001b[0m\u001b[0;34m(\u001b[0m\u001b[0marr\u001b[0m\u001b[0;34m,\u001b[0m \u001b[0maxis\u001b[0m\u001b[0;34m)\u001b[0m\u001b[0;34m\u001b[0m\u001b[0;34m\u001b[0m\u001b[0m\n\u001b[0m\u001b[1;32m    139\u001b[0m     \u001b[0;31m# Make this warning show up first\u001b[0m\u001b[0;34m\u001b[0m\u001b[0;34m\u001b[0m\u001b[0;34m\u001b[0m\u001b[0m\n\u001b[1;32m    140\u001b[0m     \u001b[0;32mif\u001b[0m \u001b[0mrcount\u001b[0m \u001b[0;34m==\u001b[0m \u001b[0;36m0\u001b[0m\u001b[0;34m:\u001b[0m\u001b[0;34m\u001b[0m\u001b[0;34m\u001b[0m\u001b[0m\n",
      "\u001b[0;32m~/anaconda3/lib/python3.7/site-packages/numpy/core/_methods.py\u001b[0m in \u001b[0;36m_count_reduce_items\u001b[0;34m(arr, axis)\u001b[0m\n\u001b[1;32m     55\u001b[0m     \u001b[0mitems\u001b[0m \u001b[0;34m=\u001b[0m \u001b[0;36m1\u001b[0m\u001b[0;34m\u001b[0m\u001b[0;34m\u001b[0m\u001b[0m\n\u001b[1;32m     56\u001b[0m     \u001b[0;32mfor\u001b[0m \u001b[0max\u001b[0m \u001b[0;32min\u001b[0m \u001b[0maxis\u001b[0m\u001b[0;34m:\u001b[0m\u001b[0;34m\u001b[0m\u001b[0;34m\u001b[0m\u001b[0m\n\u001b[0;32m---> 57\u001b[0;31m         \u001b[0mitems\u001b[0m \u001b[0;34m*=\u001b[0m \u001b[0marr\u001b[0m\u001b[0;34m.\u001b[0m\u001b[0mshape\u001b[0m\u001b[0;34m[\u001b[0m\u001b[0max\u001b[0m\u001b[0;34m]\u001b[0m\u001b[0;34m\u001b[0m\u001b[0;34m\u001b[0m\u001b[0m\n\u001b[0m\u001b[1;32m     58\u001b[0m     \u001b[0;32mreturn\u001b[0m \u001b[0mitems\u001b[0m\u001b[0;34m\u001b[0m\u001b[0;34m\u001b[0m\u001b[0m\n\u001b[1;32m     59\u001b[0m \u001b[0;34m\u001b[0m\u001b[0m\n",
      "\u001b[0;31mIndexError\u001b[0m: tuple index out of range"
     ]
    }
   ],
   "source": [
    "numpy.mean(A,axis=1)"
   ]
  },
  {
   "cell_type": "code",
   "execution_count": 37,
   "metadata": {},
   "outputs": [],
   "source": [
    "A=numpy.zeros((2,2))"
   ]
  },
  {
   "cell_type": "code",
   "execution_count": 38,
   "metadata": {},
   "outputs": [
    {
     "data": {
      "text/plain": [
       "array([[0., 0.],\n",
       "       [0., 0.]])"
      ]
     },
     "execution_count": 38,
     "metadata": {},
     "output_type": "execute_result"
    }
   ],
   "source": [
    "A"
   ]
  },
  {
   "cell_type": "code",
   "execution_count": 39,
   "metadata": {},
   "outputs": [
    {
     "data": {
      "text/plain": [
       "array([0., 0.])"
      ]
     },
     "execution_count": 39,
     "metadata": {},
     "output_type": "execute_result"
    }
   ],
   "source": [
    "numpy.mean(A,axis=1)"
   ]
  },
  {
   "cell_type": "code",
   "execution_count": 40,
   "metadata": {},
   "outputs": [],
   "source": [
    "#let's bring in some real data"
   ]
  },
  {
   "cell_type": "code",
   "execution_count": 2,
   "metadata": {},
   "outputs": [],
   "source": [
    "import filehandling as fh"
   ]
  },
  {
   "cell_type": "code",
   "execution_count": 42,
   "metadata": {},
   "outputs": [
    {
     "name": "stdout",
     "output_type": "stream",
     "text": [
      "Untitled.ipynb           anim3dt.pck              imaging_exercises.ipynb\r\n",
      "Untitled1.ipynb          boot_camp_intro.ipynb    meta_dt_anim1.pck\r\n",
      "\u001b[34m__pycache__\u001b[m\u001b[m/             example polygon.ipynb    tst\r\n",
      "alldt_anim1.pck          filehandling.py\r\n"
     ]
    }
   ],
   "source": [
    "ls"
   ]
  },
  {
   "cell_type": "code",
   "execution_count": 3,
   "metadata": {},
   "outputs": [
    {
     "name": "stdout",
     "output_type": "stream",
     "text": [
      "pickle_name is alldt_anim1.pck\n"
     ]
    }
   ],
   "source": [
    "multiple_tifstacks=fh.open_pickle('alldt_anim1.pck')"
   ]
  },
  {
   "cell_type": "code",
   "execution_count": 45,
   "metadata": {},
   "outputs": [
    {
     "data": {
      "text/plain": [
       "'/Users/tim/Desktop/ion_boot_camp/imaging'"
      ]
     },
     "execution_count": 45,
     "metadata": {},
     "output_type": "execute_result"
    }
   ],
   "source": [
    "pwd"
   ]
  },
  {
   "cell_type": "code",
   "execution_count": 5,
   "metadata": {},
   "outputs": [
    {
     "data": {
      "text/plain": [
       "(4, 125, 100, 150)"
      ]
     },
     "execution_count": 5,
     "metadata": {},
     "output_type": "execute_result"
    }
   ],
   "source": [
    "import numpy\n",
    "numpy.shape(multiple_tifstacks)"
   ]
  },
  {
   "cell_type": "code",
   "execution_count": 48,
   "metadata": {},
   "outputs": [
    {
     "data": {
      "text/plain": [
       "1816"
      ]
     },
     "execution_count": 48,
     "metadata": {},
     "output_type": "execute_result"
    }
   ],
   "source": [
    "multiple_tifstacks[3,100,75,67]"
   ]
  },
  {
   "cell_type": "code",
   "execution_count": 7,
   "metadata": {},
   "outputs": [],
   "source": [
    "single_frame=multiple_tifstacks[0,60,:,:]"
   ]
  },
  {
   "cell_type": "code",
   "execution_count": 8,
   "metadata": {},
   "outputs": [
    {
     "data": {
      "text/plain": [
       "(100, 150)"
      ]
     },
     "execution_count": 8,
     "metadata": {},
     "output_type": "execute_result"
    }
   ],
   "source": [
    "numpy.shape(single_frame)"
   ]
  },
  {
   "cell_type": "code",
   "execution_count": 9,
   "metadata": {},
   "outputs": [],
   "source": [
    "import matplotlib.pyplot as plt"
   ]
  },
  {
   "cell_type": "code",
   "execution_count": 10,
   "metadata": {},
   "outputs": [
    {
     "data": {
      "text/plain": [
       "<matplotlib.image.AxesImage at 0x10dbd59b0>"
      ]
     },
     "execution_count": 10,
     "metadata": {},
     "output_type": "execute_result"
    },
    {
     "data": {
      "image/png": "[encoded data removed]",
      "text/plain": [
       "<Figure size 432x288 with 1 Axes>"
      ]
     },
     "metadata": {
      "needs_background": "light"
     },
     "output_type": "display_data"
    }
   ],
   "source": [
    "plt.imshow(single_frame,origin='lower')"
   ]
  },
  {
   "cell_type": "code",
   "execution_count": 11,
   "metadata": {},
   "outputs": [],
   "source": [
    "#multiple_tifstacks is all experiments\n",
    "first_tifstack=multiple_tifstacks[0,:,:,:]"
   ]
  },
  {
   "cell_type": "code",
   "execution_count": 12,
   "metadata": {},
   "outputs": [
    {
     "data": {
      "text/plain": [
       "(125, 100, 150)"
      ]
     },
     "execution_count": 12,
     "metadata": {},
     "output_type": "execute_result"
    }
   ],
   "source": [
    "numpy.shape(first_tifstack)"
   ]
  },
  {
   "cell_type": "code",
   "execution_count": 57,
   "metadata": {},
   "outputs": [],
   "source": [
    "mean_across_frames_of_first_tifstack=numpy.mean(first_tifstack)"
   ]
  },
  {
   "cell_type": "code",
   "execution_count": 58,
   "metadata": {},
   "outputs": [
    {
     "data": {
      "text/plain": [
       "293.0318650666667"
      ]
     },
     "execution_count": 58,
     "metadata": {},
     "output_type": "execute_result"
    }
   ],
   "source": [
    "mean_across_frames_of_first_tifstack"
   ]
  },
  {
   "cell_type": "code",
   "execution_count": 13,
   "metadata": {},
   "outputs": [],
   "source": [
    "mean_across_frames_of_first_tifstack=numpy.mean(first_tifstack,axis=0)"
   ]
  },
  {
   "cell_type": "code",
   "execution_count": 60,
   "metadata": {},
   "outputs": [
    {
     "data": {
      "text/plain": [
       "(100, 150)"
      ]
     },
     "execution_count": 60,
     "metadata": {},
     "output_type": "execute_result"
    }
   ],
   "source": [
    "numpy.shape(mean_across_frames_of_first_tifstack)"
   ]
  },
  {
   "cell_type": "code",
   "execution_count": 19,
   "metadata": {},
   "outputs": [
    {
     "data": {
      "application/javascript": [
       "/* Put everything inside the global mpl namespace */\n",
       "window.mpl = {};\n",
       "\n",
       "\n",
       "mpl.get_websocket_type = function() {\n",
       "    if (typeof(WebSocket) !== 'undefined') {\n",
       "        return WebSocket;\n",
       "    } else if (typeof(MozWebSocket) !== 'undefined') {\n",
       "        return MozWebSocket;\n",
       "    } else {\n",
       "        alert('Your browser does not have WebSocket support.' +\n",
       "              'Please try Chrome, Safari or Firefox ≥ 6. ' +\n",
       "              'Firefox 4 and 5 are also supported but you ' +\n",
       "              'have to enable WebSockets in about:config.');\n",
       "    };\n",
       "}\n",
       "\n",
       "mpl.figure = function(figure_id, websocket, ondownload, parent_element) {\n",
       "    this.id = figure_id;\n",
       "\n",
       "    this.ws = websocket;\n",
       "\n",
       "    this.supports_binary = (this.ws.binaryType != undefined);\n",
       "\n",
       "    if (!this.supports_binary) {\n",
       "        var warnings = document.getElementById(\"mpl-warnings\");\n",
       "        if (warnings) {\n",
       "            warnings.style.display = 'block';\n",
       "            warnings.textContent = (\n",
       "                \"This browser does not support binary websocket messages. \" +\n",
       "                    \"Performance may be slow.\");\n",
       "        }\n",
       "    }\n",
       "\n",
       "    this.imageObj = new Image();\n",
       "\n",
       "    this.context = undefined;\n",
       "    this.message = undefined;\n",
       "    this.canvas = undefined;\n",
       "    this.rubberband_canvas = undefined;\n",
       "    this.rubberband_context = undefined;\n",
       "    this.format_dropdown = undefined;\n",
       "\n",
       "    this.image_mode = 'full';\n",
       "\n",
       "    this.root = $('<div/>');\n",
       "    this._root_extra_style(this.root)\n",
       "    this.root.attr('style', 'display: inline-block');\n",
       "\n",
       "    $(parent_element).append(this.root);\n",
       "\n",
       "    this._init_header(this);\n",
       "    this._init_canvas(this);\n",
       "    this._init_toolbar(this);\n",
       "\n",
       "    var fig = this;\n",
       "\n",
       "    this.waiting = false;\n",
       "\n",
       "    this.ws.onopen =  function () {\n",
       "            fig.send_message(\"supports_binary\", {value: fig.supports_binary});\n",
       "            fig.send_message(\"send_image_mode\", {});\n",
       "            if (mpl.ratio != 1) {\n",
       "                fig.send_message(\"set_dpi_ratio\", {'dpi_ratio': mpl.ratio});\n",
       "            }\n",
       "            fig.send_message(\"refresh\", {});\n",
       "        }\n",
       "\n",
       "    this.imageObj.onload = function() {\n",
       "            if (fig.image_mode == 'full') {\n",
       "                // Full images could contain transparency (where diff images\n",
       "                // almost always do), so we need to clear the canvas so that\n",
       "                // there is no ghosting.\n",
       "                fig.context.clearRect(0, 0, fig.canvas.width, fig.canvas.height);\n",
       "            }\n",
       "            fig.context.drawImage(fig.imageObj, 0, 0);\n",
       "        };\n",
       "\n",
       "    this.imageObj.onunload = function() {\n",
       "        fig.ws.close();\n",
       "    }\n",
       "\n",
       "    this.ws.onmessage = this._make_on_message_function(this);\n",
       "\n",
       "    this.ondownload = ondownload;\n",
       "}\n",
       "\n",
       "mpl.figure.prototype._init_header = function() {\n",
       "    var titlebar = $(\n",
       "        '<div class=\"ui-dialog-titlebar ui-widget-header ui-corner-all ' +\n",
       "        'ui-helper-clearfix\"/>');\n",
       "    var titletext = $(\n",
       "        '<div class=\"ui-dialog-title\" style=\"width: 100%; ' +\n",
       "        'text-align: center; padding: 3px;\"/>');\n",
       "    titlebar.append(titletext)\n",
       "    this.root.append(titlebar);\n",
       "    this.header = titletext[0];\n",
       "}\n",
       "\n",
       "\n",
       "\n",
       "mpl.figure.prototype._canvas_extra_style = function(canvas_div) {\n",
       "\n",
       "}\n",
       "\n",
       "\n",
       "mpl.figure.prototype._root_extra_style = function(canvas_div) {\n",
       "\n",
       "}\n",
       "\n",
       "mpl.figure.prototype._init_canvas = function() {\n",
       "    var fig = this;\n",
       "\n",
       "    var canvas_div = $('<div/>');\n",
       "\n",
       "    canvas_div.attr('style', 'position: relative; clear: both; outline: 0');\n",
       "\n",
       "    function canvas_keyboard_event(event) {\n",
       "        return fig.key_event(event, event['data']);\n",
       "    }\n",
       "\n",
       "    canvas_div.keydown('key_press', canvas_keyboard_event);\n",
       "    canvas_div.keyup('key_release', canvas_keyboard_event);\n",
       "    this.canvas_div = canvas_div\n",
       "    this._canvas_extra_style(canvas_div)\n",
       "    this.root.append(canvas_div);\n",
       "\n",
       "    var canvas = $('<canvas/>');\n",
       "    canvas.addClass('mpl-canvas');\n",
       "    canvas.attr('style', \"left: 0; top: 0; z-index: 0; outline: 0\")\n",
       "\n",
       "    this.canvas = canvas[0];\n",
       "    this.context = canvas[0].getContext(\"2d\");\n",
       "\n",
       "    var backingStore = this.context.backingStorePixelRatio ||\n",
       "\tthis.context.webkitBackingStorePixelRatio ||\n",
       "\tthis.context.mozBackingStorePixelRatio ||\n",
       "\tthis.context.msBackingStorePixelRatio ||\n",
       "\tthis.context.oBackingStorePixelRatio ||\n",
       "\tthis.context.backingStorePixelRatio || 1;\n",
       "\n",
       "    mpl.ratio = (window.devicePixelRatio || 1) / backingStore;\n",
       "\n",
       "    var rubberband = $('<canvas/>');\n",
       "    rubberband.attr('style', \"position: absolute; left: 0; top: 0; z-index: 1;\")\n",
       "\n",
       "    var pass_mouse_events = true;\n",
       "\n",
       "    canvas_div.resizable({\n",
       "        start: function(event, ui) {\n",
       "            pass_mouse_events = false;\n",
       "        },\n",
       "        resize: function(event, ui) {\n",
       "            fig.request_resize(ui.size.width, ui.size.height);\n",
       "        },\n",
       "        stop: function(event, ui) {\n",
       "            pass_mouse_events = true;\n",
       "            fig.request_resize(ui.size.width, ui.size.height);\n",
       "        },\n",
       "    });\n",
       "\n",
       "    function mouse_event_fn(event) {\n",
       "        if (pass_mouse_events)\n",
       "            return fig.mouse_event(event, event['data']);\n",
       "    }\n",
       "\n",
       "    rubberband.mousedown('button_press', mouse_event_fn);\n",
       "    rubberband.mouseup('button_release', mouse_event_fn);\n",
       "    // Throttle sequential mouse events to 1 every 20ms.\n",
       "    rubberband.mousemove('motion_notify', mouse_event_fn);\n",
       "\n",
       "    rubberband.mouseenter('figure_enter', mouse_event_fn);\n",
       "    rubberband.mouseleave('figure_leave', mouse_event_fn);\n",
       "\n",
       "    canvas_div.on(\"wheel\", function (event) {\n",
       "        event = event.originalEvent;\n",
       "        event['data'] = 'scroll'\n",
       "        if (event.deltaY < 0) {\n",
       "            event.step = 1;\n",
       "        } else {\n",
       "            event.step = -1;\n",
       "        }\n",
       "        mouse_event_fn(event);\n",
       "    });\n",
       "\n",
       "    canvas_div.append(canvas);\n",
       "    canvas_div.append(rubberband);\n",
       "\n",
       "    this.rubberband = rubberband;\n",
       "    this.rubberband_canvas = rubberband[0];\n",
       "    this.rubberband_context = rubberband[0].getContext(\"2d\");\n",
       "    this.rubberband_context.strokeStyle = \"#000000\";\n",
       "\n",
       "    this._resize_canvas = function(width, height) {\n",
       "        // Keep the size of the canvas, canvas container, and rubber band\n",
       "        // canvas in synch.\n",
       "        canvas_div.css('width', width)\n",
       "        canvas_div.css('height', height)\n",
       "\n",
       "        canvas.attr('width', width * mpl.ratio);\n",
       "        canvas.attr('height', height * mpl.ratio);\n",
       "        canvas.attr('style', 'width: ' + width + 'px; height: ' + height + 'px;');\n",
       "\n",
       "        rubberband.attr('width', width);\n",
       "        rubberband.attr('height', height);\n",
       "    }\n",
       "\n",
       "    // Set the figure to an initial 600x600px, this will subsequently be updated\n",
       "    // upon first draw.\n",
       "    this._resize_canvas(600, 600);\n",
       "\n",
       "    // Disable right mouse context menu.\n",
       "    $(this.rubberband_canvas).bind(\"contextmenu\",function(e){\n",
       "        return false;\n",
       "    });\n",
       "\n",
       "    function set_focus () {\n",
       "        canvas.focus();\n",
       "        canvas_div.focus();\n",
       "    }\n",
       "\n",
       "    window.setTimeout(set_focus, 100);\n",
       "}\n",
       "\n",
       "mpl.figure.prototype._init_toolbar = function() {\n",
       "    var fig = this;\n",
       "\n",
       "    var nav_element = $('<div/>')\n",
       "    nav_element.attr('style', 'width: 100%');\n",
       "    this.root.append(nav_element);\n",
       "\n",
       "    // Define a callback function for later on.\n",
       "    function toolbar_event(event) {\n",
       "        return fig.toolbar_button_onclick(event['data']);\n",
       "    }\n",
       "    function toolbar_mouse_event(event) {\n",
       "        return fig.toolbar_button_onmouseover(event['data']);\n",
       "    }\n",
       "\n",
       "    for(var toolbar_ind in mpl.toolbar_items) {\n",
       "        var name = mpl.toolbar_items[toolbar_ind][0];\n",
       "        var tooltip = mpl.toolbar_items[toolbar_ind][1];\n",
       "        var image = mpl.toolbar_items[toolbar_ind][2];\n",
       "        var method_name = mpl.toolbar_items[toolbar_ind][3];\n",
       "\n",
       "        if (!name) {\n",
       "            // put a spacer in here.\n",
       "            continue;\n",
       "        }\n",
       "        var button = $('<button/>');\n",
       "        button.addClass('ui-button ui-widget ui-state-default ui-corner-all ' +\n",
       "                        'ui-button-icon-only');\n",
       "        button.attr('role', 'button');\n",
       "        button.attr('aria-disabled', 'false');\n",
       "        button.click(method_name, toolbar_event);\n",
       "        button.mouseover(tooltip, toolbar_mouse_event);\n",
       "\n",
       "        var icon_img = $('<span/>');\n",
       "        icon_img.addClass('ui-button-icon-primary ui-icon');\n",
       "        icon_img.addClass(image);\n",
       "        icon_img.addClass('ui-corner-all');\n",
       "\n",
       "        var tooltip_span = $('<span/>');\n",
       "        tooltip_span.addClass('ui-button-text');\n",
       "        tooltip_span.html(tooltip);\n",
       "\n",
       "        button.append(icon_img);\n",
       "        button.append(tooltip_span);\n",
       "\n",
       "        nav_element.append(button);\n",
       "    }\n",
       "\n",
       "    var fmt_picker_span = $('<span/>');\n",
       "\n",
       "    var fmt_picker = $('<select/>');\n",
       "    fmt_picker.addClass('mpl-toolbar-option ui-widget ui-widget-content');\n",
       "    fmt_picker_span.append(fmt_picker);\n",
       "    nav_element.append(fmt_picker_span);\n",
       "    this.format_dropdown = fmt_picker[0];\n",
       "\n",
       "    for (var ind in mpl.extensions) {\n",
       "        var fmt = mpl.extensions[ind];\n",
       "        var option = $(\n",
       "            '<option/>', {selected: fmt === mpl.default_extension}).html(fmt);\n",
       "        fmt_picker.append(option)\n",
       "    }\n",
       "\n",
       "    // Add hover states to the ui-buttons\n",
       "    $( \".ui-button\" ).hover(\n",
       "        function() { $(this).addClass(\"ui-state-hover\");},\n",
       "        function() { $(this).removeClass(\"ui-state-hover\");}\n",
       "    );\n",
       "\n",
       "    var status_bar = $('<span class=\"mpl-message\"/>');\n",
       "    nav_element.append(status_bar);\n",
       "    this.message = status_bar[0];\n",
       "}\n",
       "\n",
       "mpl.figure.prototype.request_resize = function(x_pixels, y_pixels) {\n",
       "    // Request matplotlib to resize the figure. Matplotlib will then trigger a resize in the client,\n",
       "    // which will in turn request a refresh of the image.\n",
       "    this.send_message('resize', {'width': x_pixels, 'height': y_pixels});\n",
       "}\n",
       "\n",
       "mpl.figure.prototype.send_message = function(type, properties) {\n",
       "    properties['type'] = type;\n",
       "    properties['figure_id'] = this.id;\n",
       "    this.ws.send(JSON.stringify(properties));\n",
       "}\n",
       "\n",
       "mpl.figure.prototype.send_draw_message = function() {\n",
       "    if (!this.waiting) {\n",
       "        this.waiting = true;\n",
       "        this.ws.send(JSON.stringify({type: \"draw\", figure_id: this.id}));\n",
       "    }\n",
       "}\n",
       "\n",
       "\n",
       "mpl.figure.prototype.handle_save = function(fig, msg) {\n",
       "    var format_dropdown = fig.format_dropdown;\n",
       "    var format = format_dropdown.options[format_dropdown.selectedIndex].value;\n",
       "    fig.ondownload(fig, format);\n",
       "}\n",
       "\n",
       "\n",
       "mpl.figure.prototype.handle_resize = function(fig, msg) {\n",
       "    var size = msg['size'];\n",
       "    if (size[0] != fig.canvas.width || size[1] != fig.canvas.height) {\n",
       "        fig._resize_canvas(size[0], size[1]);\n",
       "        fig.send_message(\"refresh\", {});\n",
       "    };\n",
       "}\n",
       "\n",
       "mpl.figure.prototype.handle_rubberband = function(fig, msg) {\n",
       "    var x0 = msg['x0'] / mpl.ratio;\n",
       "    var y0 = (fig.canvas.height - msg['y0']) / mpl.ratio;\n",
       "    var x1 = msg['x1'] / mpl.ratio;\n",
       "    var y1 = (fig.canvas.height - msg['y1']) / mpl.ratio;\n",
       "    x0 = Math.floor(x0) + 0.5;\n",
       "    y0 = Math.floor(y0) + 0.5;\n",
       "    x1 = Math.floor(x1) + 0.5;\n",
       "    y1 = Math.floor(y1) + 0.5;\n",
       "    var min_x = Math.min(x0, x1);\n",
       "    var min_y = Math.min(y0, y1);\n",
       "    var width = Math.abs(x1 - x0);\n",
       "    var height = Math.abs(y1 - y0);\n",
       "\n",
       "    fig.rubberband_context.clearRect(\n",
       "        0, 0, fig.canvas.width, fig.canvas.height);\n",
       "\n",
       "    fig.rubberband_context.strokeRect(min_x, min_y, width, height);\n",
       "}\n",
       "\n",
       "mpl.figure.prototype.handle_figure_label = function(fig, msg) {\n",
       "    // Updates the figure title.\n",
       "    fig.header.textContent = msg['label'];\n",
       "}\n",
       "\n",
       "mpl.figure.prototype.handle_cursor = function(fig, msg) {\n",
       "    var cursor = msg['cursor'];\n",
       "    switch(cursor)\n",
       "    {\n",
       "    case 0:\n",
       "        cursor = 'pointer';\n",
       "        break;\n",
       "    case 1:\n",
       "        cursor = 'default';\n",
       "        break;\n",
       "    case 2:\n",
       "        cursor = 'crosshair';\n",
       "        break;\n",
       "    case 3:\n",
       "        cursor = 'move';\n",
       "        break;\n",
       "    }\n",
       "    fig.rubberband_canvas.style.cursor = cursor;\n",
       "}\n",
       "\n",
       "mpl.figure.prototype.handle_message = function(fig, msg) {\n",
       "    fig.message.textContent = msg['message'];\n",
       "}\n",
       "\n",
       "mpl.figure.prototype.handle_draw = function(fig, msg) {\n",
       "    // Request the server to send over a new figure.\n",
       "    fig.send_draw_message();\n",
       "}\n",
       "\n",
       "mpl.figure.prototype.handle_image_mode = function(fig, msg) {\n",
       "    fig.image_mode = msg['mode'];\n",
       "}\n",
       "\n",
       "mpl.figure.prototype.updated_canvas_event = function() {\n",
       "    // Called whenever the canvas gets updated.\n",
       "    this.send_message(\"ack\", {});\n",
       "}\n",
       "\n",
       "// A function to construct a web socket function for onmessage handling.\n",
       "// Called in the figure constructor.\n",
       "mpl.figure.prototype._make_on_message_function = function(fig) {\n",
       "    return function socket_on_message(evt) {\n",
       "        if (evt.data instanceof Blob) {\n",
       "            /* FIXME: We get \"Resource interpreted as Image but\n",
       "             * transferred with MIME type text/plain:\" errors on\n",
       "             * Chrome.  But how to set the MIME type?  It doesn't seem\n",
       "             * to be part of the websocket stream */\n",
       "            evt.data.type = \"image/png\";\n",
       "\n",
       "            /* Free the memory for the previous frames */\n",
       "            if (fig.imageObj.src) {\n",
       "                (window.URL || window.webkitURL).revokeObjectURL(\n",
       "                    fig.imageObj.src);\n",
       "            }\n",
       "\n",
       "            fig.imageObj.src = (window.URL || window.webkitURL).createObjectURL(\n",
       "                evt.data);\n",
       "            fig.updated_canvas_event();\n",
       "            fig.waiting = false;\n",
       "            return;\n",
       "        }\n",
       "        else if (typeof evt.data === 'string' && evt.data.slice(0, 21) == \"data:image/png;base64\") {\n",
       "            fig.imageObj.src = evt.data;\n",
       "            fig.updated_canvas_event();\n",
       "            fig.waiting = false;\n",
       "            return;\n",
       "        }\n",
       "\n",
       "        var msg = JSON.parse(evt.data);\n",
       "        var msg_type = msg['type'];\n",
       "\n",
       "        // Call the  \"handle_{type}\" callback, which takes\n",
       "        // the figure and JSON message as its only arguments.\n",
       "        try {\n",
       "            var callback = fig[\"handle_\" + msg_type];\n",
       "        } catch (e) {\n",
       "            console.log(\"No handler for the '\" + msg_type + \"' message type: \", msg);\n",
       "            return;\n",
       "        }\n",
       "\n",
       "        if (callback) {\n",
       "            try {\n",
       "                // console.log(\"Handling '\" + msg_type + \"' message: \", msg);\n",
       "                callback(fig, msg);\n",
       "            } catch (e) {\n",
       "                console.log(\"Exception inside the 'handler_\" + msg_type + \"' callback:\", e, e.stack, msg);\n",
       "            }\n",
       "        }\n",
       "    };\n",
       "}\n",
       "\n",
       "// from http://stackoverflow.com/questions/1114465/getting-mouse-location-in-canvas\n",
       "mpl.findpos = function(e) {\n",
       "    //this section is from http://www.quirksmode.org/js/events_properties.html\n",
       "    var targ;\n",
       "    if (!e)\n",
       "        e = window.event;\n",
       "    if (e.target)\n",
       "        targ = e.target;\n",
       "    else if (e.srcElement)\n",
       "        targ = e.srcElement;\n",
       "    if (targ.nodeType == 3) // defeat Safari bug\n",
       "        targ = targ.parentNode;\n",
       "\n",
       "    // jQuery normalizes the pageX and pageY\n",
       "    // pageX,Y are the mouse positions relative to the document\n",
       "    // offset() returns the position of the element relative to the document\n",
       "    var x = e.pageX - $(targ).offset().left;\n",
       "    var y = e.pageY - $(targ).offset().top;\n",
       "\n",
       "    return {\"x\": x, \"y\": y};\n",
       "};\n",
       "\n",
       "/*\n",
       " * return a copy of an object with only non-object keys\n",
       " * we need this to avoid circular references\n",
       " * http://stackoverflow.com/a/24161582/3208463\n",
       " */\n",
       "function simpleKeys (original) {\n",
       "  return Object.keys(original).reduce(function (obj, key) {\n",
       "    if (typeof original[key] !== 'object')\n",
       "        obj[key] = original[key]\n",
       "    return obj;\n",
       "  }, {});\n",
       "}\n",
       "\n",
       "mpl.figure.prototype.mouse_event = function(event, name) {\n",
       "    var canvas_pos = mpl.findpos(event)\n",
       "\n",
       "    if (name === 'button_press')\n",
       "    {\n",
       "        this.canvas.focus();\n",
       "        this.canvas_div.focus();\n",
       "    }\n",
       "\n",
       "    var x = canvas_pos.x * mpl.ratio;\n",
       "    var y = canvas_pos.y * mpl.ratio;\n",
       "\n",
       "    this.send_message(name, {x: x, y: y, button: event.button,\n",
       "                             step: event.step,\n",
       "                             guiEvent: simpleKeys(event)});\n",
       "\n",
       "    /* This prevents the web browser from automatically changing to\n",
       "     * the text insertion cursor when the button is pressed.  We want\n",
       "     * to control all of the cursor setting manually through the\n",
       "     * 'cursor' event from matplotlib */\n",
       "    event.preventDefault();\n",
       "    return false;\n",
       "}\n",
       "\n",
       "mpl.figure.prototype._key_event_extra = function(event, name) {\n",
       "    // Handle any extra behaviour associated with a key event\n",
       "}\n",
       "\n",
       "mpl.figure.prototype.key_event = function(event, name) {\n",
       "\n",
       "    // Prevent repeat events\n",
       "    if (name == 'key_press')\n",
       "    {\n",
       "        if (event.which === this._key)\n",
       "            return;\n",
       "        else\n",
       "            this._key = event.which;\n",
       "    }\n",
       "    if (name == 'key_release')\n",
       "        this._key = null;\n",
       "\n",
       "    var value = '';\n",
       "    if (event.ctrlKey && event.which != 17)\n",
       "        value += \"ctrl+\";\n",
       "    if (event.altKey && event.which != 18)\n",
       "        value += \"alt+\";\n",
       "    if (event.shiftKey && event.which != 16)\n",
       "        value += \"shift+\";\n",
       "\n",
       "    value += 'k';\n",
       "    value += event.which.toString();\n",
       "\n",
       "    this._key_event_extra(event, name);\n",
       "\n",
       "    this.send_message(name, {key: value,\n",
       "                             guiEvent: simpleKeys(event)});\n",
       "    return false;\n",
       "}\n",
       "\n",
       "mpl.figure.prototype.toolbar_button_onclick = function(name) {\n",
       "    if (name == 'download') {\n",
       "        this.handle_save(this, null);\n",
       "    } else {\n",
       "        this.send_message(\"toolbar_button\", {name: name});\n",
       "    }\n",
       "};\n",
       "\n",
       "mpl.figure.prototype.toolbar_button_onmouseover = function(tooltip) {\n",
       "    this.message.textContent = tooltip;\n",
       "};\n",
       "mpl.toolbar_items = [[\"Home\", \"Reset original view\", \"fa fa-home icon-home\", \"home\"], [\"Back\", \"Back to previous view\", \"fa fa-arrow-left icon-arrow-left\", \"back\"], [\"Forward\", \"Forward to next view\", \"fa fa-arrow-right icon-arrow-right\", \"forward\"], [\"\", \"\", \"\", \"\"], [\"Pan\", \"Pan axes with left mouse, zoom with right\", \"fa fa-arrows icon-move\", \"pan\"], [\"Zoom\", \"Zoom to rectangle\", \"fa fa-square-o icon-check-empty\", \"zoom\"], [\"\", \"\", \"\", \"\"], [\"Download\", \"Download plot\", \"fa fa-floppy-o icon-save\", \"download\"]];\n",
       "\n",
       "mpl.extensions = [\"eps\", \"jpeg\", \"pdf\", \"png\", \"ps\", \"raw\", \"svg\", \"tif\"];\n",
       "\n",
       "mpl.default_extension = \"png\";var comm_websocket_adapter = function(comm) {\n",
       "    // Create a \"websocket\"-like object which calls the given IPython comm\n",
       "    // object with the appropriate methods. Currently this is a non binary\n",
       "    // socket, so there is still some room for performance tuning.\n",
       "    var ws = {};\n",
       "\n",
       "    ws.close = function() {\n",
       "        comm.close()\n",
       "    };\n",
       "    ws.send = function(m) {\n",
       "        //console.log('sending', m);\n",
       "        comm.send(m);\n",
       "    };\n",
       "    // Register the callback with on_msg.\n",
       "    comm.on_msg(function(msg) {\n",
       "        //console.log('receiving', msg['content']['data'], msg);\n",
       "        // Pass the mpl event to the overridden (by mpl) onmessage function.\n",
       "        ws.onmessage(msg['content']['data'])\n",
       "    });\n",
       "    return ws;\n",
       "}\n",
       "\n",
       "mpl.mpl_figure_comm = function(comm, msg) {\n",
       "    // This is the function which gets called when the mpl process\n",
       "    // starts-up an IPython Comm through the \"matplotlib\" channel.\n",
       "\n",
       "    var id = msg.content.data.id;\n",
       "    // Get hold of the div created by the display call when the Comm\n",
       "    // socket was opened in Python.\n",
       "    var element = $(\"#\" + id);\n",
       "    var ws_proxy = comm_websocket_adapter(comm)\n",
       "\n",
       "    function ondownload(figure, format) {\n",
       "        window.open(figure.imageObj.src);\n",
       "    }\n",
       "\n",
       "    var fig = new mpl.figure(id, ws_proxy,\n",
       "                           ondownload,\n",
       "                           element.get(0));\n",
       "\n",
       "    // Call onopen now - mpl needs it, as it is assuming we've passed it a real\n",
       "    // web socket which is closed, not our websocket->open comm proxy.\n",
       "    ws_proxy.onopen();\n",
       "\n",
       "    fig.parent_element = element.get(0);\n",
       "    fig.cell_info = mpl.find_output_cell(\"<div id='\" + id + \"'></div>\");\n",
       "    if (!fig.cell_info) {\n",
       "        console.error(\"Failed to find cell for figure\", id, fig);\n",
       "        return;\n",
       "    }\n",
       "\n",
       "    var output_index = fig.cell_info[2]\n",
       "    var cell = fig.cell_info[0];\n",
       "\n",
       "};\n",
       "\n",
       "mpl.figure.prototype.handle_close = function(fig, msg) {\n",
       "    var width = fig.canvas.width/mpl.ratio\n",
       "    fig.root.unbind('remove')\n",
       "\n",
       "    // Update the output cell to use the data from the current canvas.\n",
       "    fig.push_to_output();\n",
       "    var dataURL = fig.canvas.toDataURL();\n",
       "    // Re-enable the keyboard manager in IPython - without this line, in FF,\n",
       "    // the notebook keyboard shortcuts fail.\n",
       "    IPython.keyboard_manager.enable()\n",
       "    $(fig.parent_element).html('<img src=\"' + dataURL + '\" width=\"' + width + '\">');\n",
       "    fig.close_ws(fig, msg);\n",
       "}\n",
       "\n",
       "mpl.figure.prototype.close_ws = function(fig, msg){\n",
       "    fig.send_message('closing', msg);\n",
       "    // fig.ws.close()\n",
       "}\n",
       "\n",
       "mpl.figure.prototype.push_to_output = function(remove_interactive) {\n",
       "    // Turn the data on the canvas into data in the output cell.\n",
       "    var width = this.canvas.width/mpl.ratio\n",
       "    var dataURL = this.canvas.toDataURL();\n",
       "    this.cell_info[1]['text/html'] = '<img src=\"' + dataURL + '\" width=\"' + width + '\">';\n",
       "}\n",
       "\n",
       "mpl.figure.prototype.updated_canvas_event = function() {\n",
       "    // Tell IPython that the notebook contents must change.\n",
       "    IPython.notebook.set_dirty(true);\n",
       "    this.send_message(\"ack\", {});\n",
       "    var fig = this;\n",
       "    // Wait a second, then push the new image to the DOM so\n",
       "    // that it is saved nicely (might be nice to debounce this).\n",
       "    setTimeout(function () { fig.push_to_output() }, 1000);\n",
       "}\n",
       "\n",
       "mpl.figure.prototype._init_toolbar = function() {\n",
       "    var fig = this;\n",
       "\n",
       "    var nav_element = $('<div/>')\n",
       "    nav_element.attr('style', 'width: 100%');\n",
       "    this.root.append(nav_element);\n",
       "\n",
       "    // Define a callback function for later on.\n",
       "    function toolbar_event(event) {\n",
       "        return fig.toolbar_button_onclick(event['data']);\n",
       "    }\n",
       "    function toolbar_mouse_event(event) {\n",
       "        return fig.toolbar_button_onmouseover(event['data']);\n",
       "    }\n",
       "\n",
       "    for(var toolbar_ind in mpl.toolbar_items){\n",
       "        var name = mpl.toolbar_items[toolbar_ind][0];\n",
       "        var tooltip = mpl.toolbar_items[toolbar_ind][1];\n",
       "        var image = mpl.toolbar_items[toolbar_ind][2];\n",
       "        var method_name = mpl.toolbar_items[toolbar_ind][3];\n",
       "\n",
       "        if (!name) { continue; };\n",
       "\n",
       "        var button = $('<button class=\"btn btn-default\" href=\"#\" title=\"' + name + '\"><i class=\"fa ' + image + ' fa-lg\"></i></button>');\n",
       "        button.click(method_name, toolbar_event);\n",
       "        button.mouseover(tooltip, toolbar_mouse_event);\n",
       "        nav_element.append(button);\n",
       "    }\n",
       "\n",
       "    // Add the status bar.\n",
       "    var status_bar = $('<span class=\"mpl-message\" style=\"text-align:right; float: right;\"/>');\n",
       "    nav_element.append(status_bar);\n",
       "    this.message = status_bar[0];\n",
       "\n",
       "    // Add the close button to the window.\n",
       "    var buttongrp = $('<div class=\"btn-group inline pull-right\"></div>');\n",
       "    var button = $('<button class=\"btn btn-mini btn-primary\" href=\"#\" title=\"Stop Interaction\"><i class=\"fa fa-power-off icon-remove icon-large\"></i></button>');\n",
       "    button.click(function (evt) { fig.handle_close(fig, {}); } );\n",
       "    button.mouseover('Stop Interaction', toolbar_mouse_event);\n",
       "    buttongrp.append(button);\n",
       "    var titlebar = this.root.find($('.ui-dialog-titlebar'));\n",
       "    titlebar.prepend(buttongrp);\n",
       "}\n",
       "\n",
       "mpl.figure.prototype._root_extra_style = function(el){\n",
       "    var fig = this\n",
       "    el.on(\"remove\", function(){\n",
       "\tfig.close_ws(fig, {});\n",
       "    });\n",
       "}\n",
       "\n",
       "mpl.figure.prototype._canvas_extra_style = function(el){\n",
       "    // this is important to make the div 'focusable\n",
       "    el.attr('tabindex', 0)\n",
       "    // reach out to IPython and tell the keyboard manager to turn it's self\n",
       "    // off when our div gets focus\n",
       "\n",
       "    // location in version 3\n",
       "    if (IPython.notebook.keyboard_manager) {\n",
       "        IPython.notebook.keyboard_manager.register_events(el);\n",
       "    }\n",
       "    else {\n",
       "        // location in version 2\n",
       "        IPython.keyboard_manager.register_events(el);\n",
       "    }\n",
       "\n",
       "}\n",
       "\n",
       "mpl.figure.prototype._key_event_extra = function(event, name) {\n",
       "    var manager = IPython.notebook.keyboard_manager;\n",
       "    if (!manager)\n",
       "        manager = IPython.keyboard_manager;\n",
       "\n",
       "    // Check for shift+enter\n",
       "    if (event.shiftKey && event.which == 13) {\n",
       "        this.canvas_div.blur();\n",
       "        event.shiftKey = false;\n",
       "        // Send a \"J\" for go to next cell\n",
       "        event.which = 74;\n",
       "        event.keyCode = 74;\n",
       "        manager.command_mode();\n",
       "        manager.handle_keydown(event);\n",
       "    }\n",
       "}\n",
       "\n",
       "mpl.figure.prototype.handle_save = function(fig, msg) {\n",
       "    fig.ondownload(fig, null);\n",
       "}\n",
       "\n",
       "\n",
       "mpl.find_output_cell = function(html_output) {\n",
       "    // Return the cell and output element which can be found *uniquely* in the notebook.\n",
       "    // Note - this is a bit hacky, but it is done because the \"notebook_saving.Notebook\"\n",
       "    // IPython event is triggered only after the cells have been serialised, which for\n",
       "    // our purposes (turning an active figure into a static one), is too late.\n",
       "    var cells = IPython.notebook.get_cells();\n",
       "    var ncells = cells.length;\n",
       "    for (var i=0; i<ncells; i++) {\n",
       "        var cell = cells[i];\n",
       "        if (cell.cell_type === 'code'){\n",
       "            for (var j=0; j<cell.output_area.outputs.length; j++) {\n",
       "                var data = cell.output_area.outputs[j];\n",
       "                if (data.data) {\n",
       "                    // IPython >= 3 moved mimebundle to data attribute of output\n",
       "                    data = data.data;\n",
       "                }\n",
       "                if (data['text/html'] == html_output) {\n",
       "                    return [cell, data, j];\n",
       "                }\n",
       "            }\n",
       "        }\n",
       "    }\n",
       "}\n",
       "\n",
       "// Register the function which deals with the matplotlib target/channel.\n",
       "// The kernel may be null if the page has been refreshed.\n",
       "if (IPython.notebook.kernel != null) {\n",
       "    IPython.notebook.kernel.comm_manager.register_target('matplotlib', mpl.mpl_figure_comm);\n",
       "}\n"
      ],
      "text/plain": [
       "<IPython.core.display.Javascript object>"
      ]
     },
     "metadata": {},
     "output_type": "display_data"
    },
    {
     "data": {
      "text/html": [
       "<img src=\"data:image/png;base64,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\" width=\"432\">"
      ],
      "text/plain": [
       "<IPython.core.display.HTML object>"
      ]
     },
     "metadata": {},
     "output_type": "display_data"
    },
    {
     "data": {
      "text/plain": [
       "<matplotlib.colorbar.Colorbar at 0x1109af780>"
      ]
     },
     "execution_count": 19,
     "metadata": {},
     "output_type": "execute_result"
    }
   ],
   "source": [
    "%matplotlib notebook\n",
    "plt.imshow(mean_across_frames_of_first_tifstack,origin='lower')\n",
    "plt.colorbar()"
   ]
  },
  {
   "cell_type": "code",
   "execution_count": 3,
   "metadata": {},
   "outputs": [],
   "source": []
  },
  {
   "cell_type": "code",
   "execution_count": 20,
   "metadata": {},
   "outputs": [],
   "source": [
    "from skimage.draw import polygon"
   ]
  },
  {
   "cell_type": "code",
   "execution_count": 28,
   "metadata": {},
   "outputs": [
    {
     "name": "stdout",
     "output_type": "stream",
     "text": [
      "[30 55 58 40]\n",
      "[80 93 90 75]\n"
     ]
    }
   ],
   "source": [
    "vertical_corners=numpy.array([30,55,58,40])\n",
    "print(vertical_corners)\n",
    "horizontal_corners=numpy.array([80,93,90,75])\n",
    "print(horizontal_corners)"
   ]
  },
  {
   "cell_type": "code",
   "execution_count": 29,
   "metadata": {},
   "outputs": [],
   "source": [
    "vert_inds,horiz_inds=polygon(vertical_corners,horizontal_corners)"
   ]
  },
  {
   "cell_type": "code",
   "execution_count": 38,
   "metadata": {},
   "outputs": [],
   "source": [
    "mean_across_frames_of_first_tifstack[vert_inds,horiz_inds]=5000"
   ]
  },
  {
   "cell_type": "code",
   "execution_count": 39,
   "metadata": {},
   "outputs": [
    {
     "data": {
      "text/plain": [
       "<matplotlib.colorbar.Colorbar at 0x123069e10>"
      ]
     },
     "execution_count": 39,
     "metadata": {},
     "output_type": "execute_result"
    },
    {
     "data": {
      "image/png": "[encoded data removed]",
      "text/plain": [
       "<Figure size 432x288 with 2 Axes>"
      ]
     },
     "metadata": {
      "needs_background": "light"
     },
     "output_type": "display_data"
    }
   ],
   "source": [
    "%matplotlib inline\n",
    "plt.imshow(mean_across_frames_of_first_tifstack,origin='lower')\n",
    "plt.colorbar()"
   ]
  },
  {
   "cell_type": "code",
   "execution_count": 8,
   "metadata": {},
   "outputs": [
    {
     "ename": "NameError",
     "evalue": "name 'mean_across_frames_of_first_tifstack' is not defined",
     "output_type": "error",
     "traceback": [
      "\u001b[0;31m---------------------------------------------------------------------------\u001b[0m",
      "\u001b[0;31mNameError\u001b[0m                                 Traceback (most recent call last)",
      "\u001b[0;32m<ipython-input-8-27fda8d20759>\u001b[0m in \u001b[0;36m<module>\u001b[0;34m\u001b[0m\n\u001b[0;32m----> 1\u001b[0;31m \u001b[0mmncopy\u001b[0m\u001b[0;34m=\u001b[0m\u001b[0mmean_across_frames_of_first_tifstack\u001b[0m\u001b[0;34m\u001b[0m\u001b[0;34m\u001b[0m\u001b[0m\n\u001b[0m",
      "\u001b[0;31mNameError\u001b[0m: name 'mean_across_frames_of_first_tifstack' is not defined"
     ]
    }
   ],
   "source": [
    "mncopy=mean_across_frames_of_first_tifstack"
   ]
  },
  {
   "cell_type": "code",
   "execution_count": 37,
   "metadata": {},
   "outputs": [
    {
     "data": {
      "text/plain": [
       "(179,)"
      ]
     },
     "execution_count": 37,
     "metadata": {},
     "output_type": "execute_result"
    }
   ],
   "source": [
    "numpy.shape(vert_inds)"
   ]
  },
  {
   "cell_type": "code",
   "execution_count": 41,
   "metadata": {},
   "outputs": [],
   "source": [
    "mean_across_frames_of_first_tifstack[vert_inds,horiz_inds]=-100"
   ]
  },
  {
   "cell_type": "code",
   "execution_count": 42,
   "metadata": {},
   "outputs": [
    {
     "data": {
      "text/plain": [
       "<matplotlib.colorbar.Colorbar at 0x123920588>"
      ]
     },
     "execution_count": 42,
     "metadata": {},
     "output_type": "execute_result"
    },
    {
     "data": {
      "image/png": "[encoded data removed]",
      "text/plain": [
       "<Figure size 432x288 with 2 Axes>"
      ]
     },
     "metadata": {
      "needs_background": "light"
     },
     "output_type": "display_data"
    }
   ],
   "source": [
    "%matplotlib inline\n",
    "plt.imshow(mean_across_frames_of_first_tifstack,origin='lower')\n",
    "plt.colorbar()"
   ]
  },
  {
   "cell_type": "code",
   "execution_count": 43,
   "metadata": {},
   "outputs": [
    {
     "name": "stdout",
     "output_type": "stream",
     "text": [
      "Variable                               Type        Data/Info\n",
      "------------------------------------------------------------\n",
      "fh                                     module      <module 'filehandling' fr<...>imaging/filehandling.py'>\n",
      "first_tifstack                         ndarray     125x100x150: 1875000 elems, type `uint16`, 3750000 bytes (3.5762786865234375 Mb)\n",
      "horiz_inds                             ndarray     179: 179 elems, type `int64`, 1432 bytes\n",
      "horizontal_corners                     ndarray     4: 4 elems, type `int64`, 32 bytes\n",
      "mean_across_frames_of_first_tifstack   ndarray     100x150: 15000 elems, type `float64`, 120000 bytes (117.1875 kb)\n",
      "multiple_tifstacks                     ndarray     4x125x100x150: 7500000 elems, type `uint16`, 15000000 bytes (14.30511474609375 Mb)\n",
      "numpy                                  module      <module 'numpy' from '/Us<...>kages/numpy/__init__.py'>\n",
      "plt                                    module      <module 'matplotlib.pyplo<...>es/matplotlib/pyplot.py'>\n",
      "polygon                                function    <function polygon at 0x122903620>\n",
      "single_frame                           ndarray     100x150: 15000 elems, type `uint16`, 30000 bytes\n",
      "vert_inds                              ndarray     179: 179 elems, type `int64`, 1432 bytes\n",
      "vertical_corners                       ndarray     4: 4 elems, type `int64`, 32 bytes\n"
     ]
    }
   ],
   "source": [
    "whos"
   ]
  },
  {
   "cell_type": "code",
   "execution_count": 44,
   "metadata": {},
   "outputs": [],
   "source": [
    "values_within_our_region=first_tifstack[:,vert_inds,horiz_inds]"
   ]
  },
  {
   "cell_type": "code",
   "execution_count": 45,
   "metadata": {},
   "outputs": [
    {
     "data": {
      "text/plain": [
       "(125, 179)"
      ]
     },
     "execution_count": 45,
     "metadata": {},
     "output_type": "execute_result"
    }
   ],
   "source": [
    "numpy.shape(values_within_our_region)"
   ]
  },
  {
   "cell_type": "code",
   "execution_count": 46,
   "metadata": {},
   "outputs": [
    {
     "data": {
      "text/plain": [
       "546.6468826815642"
      ]
     },
     "execution_count": 46,
     "metadata": {},
     "output_type": "execute_result"
    }
   ],
   "source": [
    "numpy.mean(values_within_our_region)"
   ]
  },
  {
   "cell_type": "code",
   "execution_count": 51,
   "metadata": {},
   "outputs": [],
   "source": [
    "mean_for_each_frame=numpy.mean(values_within_our_region,axis=1)"
   ]
  },
  {
   "cell_type": "code",
   "execution_count": 52,
   "metadata": {},
   "outputs": [
    {
     "data": {
      "text/plain": [
       "(125,)"
      ]
     },
     "execution_count": 52,
     "metadata": {},
     "output_type": "execute_result"
    }
   ],
   "source": [
    "numpy.shape(mean_for_each_frame)"
   ]
  },
  {
   "cell_type": "code",
   "execution_count": 69,
   "metadata": {},
   "outputs": [
    {
     "data": {
      "text/plain": [
       "Text(0, 0.5, 'brightness within 3rd segment ROI')"
      ]
     },
     "execution_count": 69,
     "metadata": {},
     "output_type": "execute_result"
    },
    {
     "data": {
      "image/png": "[encoded data removed]",
      "text/plain": [
       "<Figure size 432x288 with 1 Axes>"
      ]
     },
     "metadata": {
      "needs_background": "light"
     },
     "output_type": "display_data"
    }
   ],
   "source": [
    "plt.plot(mean_for_each_frame)\n",
    "plt.plot(mean_for_each_frame+100,'r')\n",
    "plt.xlabel('frame number')\n",
    "plt.ylabel('brightness within 3rd segment ROI')"
   ]
  },
  {
   "cell_type": "code",
   "execution_count": 57,
   "metadata": {},
   "outputs": [
    {
     "name": "stdout",
     "output_type": "stream",
     "text": [
      "pickle_name is meta_dt_anim1.pck\n"
     ]
    }
   ],
   "source": [
    "meta_data=fh.open_pickle('meta_dt_anim1.pck')"
   ]
  },
  {
   "cell_type": "code",
   "execution_count": 58,
   "metadata": {},
   "outputs": [
    {
     "data": {
      "text/plain": [
       "dict_keys(['time_between_frames', 'microns_per_pixel', 'stim_frame'])"
      ]
     },
     "execution_count": 58,
     "metadata": {},
     "output_type": "execute_result"
    }
   ],
   "source": [
    "meta_data.keys()"
   ]
  },
  {
   "cell_type": "code",
   "execution_count": 60,
   "metadata": {},
   "outputs": [],
   "source": [
    "tm_between_frames=meta_data['time_between_frames']"
   ]
  },
  {
   "cell_type": "code",
   "execution_count": 61,
   "metadata": {},
   "outputs": [
    {
     "name": "stdout",
     "output_type": "stream",
     "text": [
      "0.12625\n"
     ]
    }
   ],
   "source": [
    "print(tm_between_frames)"
   ]
  },
  {
   "cell_type": "code",
   "execution_count": 62,
   "metadata": {},
   "outputs": [
    {
     "data": {
      "text/plain": [
       "7.920792079207921"
      ]
     },
     "execution_count": 62,
     "metadata": {},
     "output_type": "execute_result"
    }
   ],
   "source": [
    "1/tm_between_frames"
   ]
  },
  {
   "cell_type": "code",
   "execution_count": 64,
   "metadata": {},
   "outputs": [],
   "source": [
    "#using np.arange to define a series of evenly spaced values that go from\n",
    "#min to max\n",
    "timevls=numpy.arange(0,125*tm_between_frames,tm_between_frames)"
   ]
  },
  {
   "cell_type": "code",
   "execution_count": 65,
   "metadata": {},
   "outputs": [
    {
     "data": {
      "text/plain": [
       "(125,)"
      ]
     },
     "execution_count": 65,
     "metadata": {},
     "output_type": "execute_result"
    }
   ],
   "source": [
    "numpy.shape(timevls)"
   ]
  },
  {
   "cell_type": "code",
   "execution_count": 66,
   "metadata": {},
   "outputs": [
    {
     "data": {
      "text/plain": [
       "[<matplotlib.lines.Line2D at 0x12421fa90>]"
      ]
     },
     "execution_count": 66,
     "metadata": {},
     "output_type": "execute_result"
    },
    {
     "data": {
      "image/png": "[encoded data removed]",
      "text/plain": [
       "<Figure size 432x288 with 1 Axes>"
      ]
     },
     "metadata": {
      "needs_background": "light"
     },
     "output_type": "display_data"
    }
   ],
   "source": [
    "plt.plot(timevls)"
   ]
  },
  {
   "cell_type": "code",
   "execution_count": 67,
   "metadata": {},
   "outputs": [
    {
     "data": {
      "text/plain": [
       "Text(0, 0.5, 'brightness within 3rd segment ROI')"
      ]
     },
     "execution_count": 67,
     "metadata": {},
     "output_type": "execute_result"
    },
    {
     "data": {
      "image/png": "[encoded data removed]",
      "text/plain": [
       "<Figure size 432x288 with 1 Axes>"
      ]
     },
     "metadata": {
      "needs_background": "light"
     },
     "output_type": "display_data"
    }
   ],
   "source": [
    "plt.plot(timevls,mean_for_each_frame)\n",
    "plt.xlabel('time in seconds')\n",
    "plt.ylabel('brightness within 3rd segment ROI')"
   ]
  },
  {
   "cell_type": "code",
   "execution_count": null,
   "metadata": {},
   "outputs": [],
   "source": []
  }
 ],
 "metadata": {
  "kernelspec": {
   "display_name": "Python 3",
   "language": "python",
   "name": "python3"
  },
  "language_info": {
   "codemirror_mode": {
    "name": "ipython",
    "version": 3
   },
   "file_extension": ".py",
   "mimetype": "text/x-python",
   "name": "python",
   "nbconvert_exporter": "python",
   "pygments_lexer": "ipython3",
   "version": "3.7.1"
  }
 },
 "nbformat": 4,
 "nbformat_minor": 2
}
