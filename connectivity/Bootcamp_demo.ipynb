{
 "cells": [
  {
   "cell_type": "code",
   "execution_count": 1,
   "metadata": {},
   "outputs": [
    {
     "name": "stderr",
     "output_type": "stream",
     "text": [
      "WARNING : Module pyoctree not found. Falling back to scipy's                             ConvexHull for intersection calculations. (pymaid)\n"
     ]
    },
    {
     "data": {
      "text/html": [
       "        <script type=\"text/javascript\">\n",
       "        window.PlotlyConfig = {MathJaxConfig: 'local'};\n",
       "        if (window.MathJax) {MathJax.Hub.Config({SVG: {font: \"STIX-Web\"}});}\n",
       "        if (typeof require !== 'undefined') {\n",
       "        require.undef(\"plotly\");\n",
       "        requirejs.config({\n",
       "            paths: {\n",
       "                'plotly': ['https://cdn.plot.ly/plotly-latest.min']\n",
       "            }\n",
       "        });\n",
       "        require(['plotly'], function(Plotly) {\n",
       "            window._Plotly = Plotly;\n",
       "        });\n",
       "        }\n",
       "        </script>\n",
       "        "
      ]
     },
     "metadata": {},
     "output_type": "display_data"
    }
   ],
   "source": [
    "# Import relevant packages\n",
    "import pymaid\n",
    "import seaborn as sns\n",
    "import json\n",
    "import pandas as pd\n",
    "import numpy as np\n",
    "import matplotlib.pyplot as plt\n",
    "from mpl_toolkits.mplot3d import Axes3D\n",
    "import csv\n",
    "import sys\n",
    "sys.path.insert(0,'Users/brandon/Documents/Bootcamp2019')\n",
    "import CATMAID_CRED\n"
   ]
  },
  {
   "cell_type": "code",
   "execution_count": 2,
   "metadata": {},
   "outputs": [
    {
     "name": "stderr",
     "output_type": "stream",
     "text": [
      "INFO  : Global CATMAID instance set. Caching is ON. (pymaid)\n"
     ]
    }
   ],
   "source": [
    "# Initialize CATMAID\n",
    "myInstance = CATMAID_CRED.CATMAID_CRED()"
   ]
  },
  {
   "cell_type": "code",
   "execution_count": 3,
   "metadata": {},
   "outputs": [
    {
     "name": "stdout",
     "output_type": "stream",
     "text": [
      "(711, 13)\n"
     ]
    },
    {
     "data": {
      "text/html": [
       "<div>\n",
       "<style scoped>\n",
       "    .dataframe tbody tr th:only-of-type {\n",
       "        vertical-align: middle;\n",
       "    }\n",
       "\n",
       "    .dataframe tbody tr th {\n",
       "        vertical-align: top;\n",
       "    }\n",
       "\n",
       "    .dataframe thead th {\n",
       "        text-align: right;\n",
       "    }\n",
       "</style>\n",
       "<table border=\"1\" class=\"dataframe\">\n",
       "  <thead>\n",
       "    <tr style=\"text-align: right;\">\n",
       "      <th></th>\n",
       "      <th>Unnamed: 0</th>\n",
       "      <th>skeleton_id</th>\n",
       "      <th>treenode_id</th>\n",
       "      <th>parent_node_id</th>\n",
       "      <th>confidence</th>\n",
       "      <th>x</th>\n",
       "      <th>y</th>\n",
       "      <th>z</th>\n",
       "      <th>radius</th>\n",
       "      <th>creator</th>\n",
       "      <th>last_edited</th>\n",
       "      <th>reviewers</th>\n",
       "      <th>tags</th>\n",
       "    </tr>\n",
       "  </thead>\n",
       "  <tbody>\n",
       "    <tr>\n",
       "      <th>0</th>\n",
       "      <td>0</td>\n",
       "      <td>6195521</td>\n",
       "      <td>6196689</td>\n",
       "      <td>6196688.0</td>\n",
       "      <td>5</td>\n",
       "      <td>49479.2</td>\n",
       "      <td>74457.2</td>\n",
       "      <td>122850.0</td>\n",
       "      <td>-1.0</td>\n",
       "      <td>albert</td>\n",
       "      <td>2014-04-08 18:03:15+00:00</td>\n",
       "      <td>['aref', 'akira']</td>\n",
       "      <td>[]</td>\n",
       "    </tr>\n",
       "    <tr>\n",
       "      <th>1</th>\n",
       "      <td>1</td>\n",
       "      <td>6195521</td>\n",
       "      <td>13804384</td>\n",
       "      <td>13804385.0</td>\n",
       "      <td>5</td>\n",
       "      <td>48142.2</td>\n",
       "      <td>75547.8</td>\n",
       "      <td>123250.0</td>\n",
       "      <td>-1.0</td>\n",
       "      <td>aref</td>\n",
       "      <td>2014-06-25 21:29:05+00:00</td>\n",
       "      <td>['aref', 'akira']</td>\n",
       "      <td>[]</td>\n",
       "    </tr>\n",
       "    <tr>\n",
       "      <th>2</th>\n",
       "      <td>2</td>\n",
       "      <td>6195521</td>\n",
       "      <td>13776295</td>\n",
       "      <td>13804396.0</td>\n",
       "      <td>5</td>\n",
       "      <td>47830.6</td>\n",
       "      <td>75475.6</td>\n",
       "      <td>123150.0</td>\n",
       "      <td>-1.0</td>\n",
       "      <td>aref</td>\n",
       "      <td>2014-06-25 21:29:05+00:00</td>\n",
       "      <td>['aref', 'akira']</td>\n",
       "      <td>[]</td>\n",
       "    </tr>\n",
       "    <tr>\n",
       "      <th>3</th>\n",
       "      <td>3</td>\n",
       "      <td>6195521</td>\n",
       "      <td>13804386</td>\n",
       "      <td>13776295.0</td>\n",
       "      <td>5</td>\n",
       "      <td>48161.2</td>\n",
       "      <td>75498.4</td>\n",
       "      <td>123150.0</td>\n",
       "      <td>-1.0</td>\n",
       "      <td>aref</td>\n",
       "      <td>2015-04-16 22:58:37+00:00</td>\n",
       "      <td>['aref', 'akira']</td>\n",
       "      <td>[]</td>\n",
       "    </tr>\n",
       "    <tr>\n",
       "      <th>4</th>\n",
       "      <td>4</td>\n",
       "      <td>6195521</td>\n",
       "      <td>13804396</td>\n",
       "      <td>13804397.0</td>\n",
       "      <td>5</td>\n",
       "      <td>48461.4</td>\n",
       "      <td>75205.8</td>\n",
       "      <td>123100.0</td>\n",
       "      <td>-1.0</td>\n",
       "      <td>aref</td>\n",
       "      <td>2014-06-25 21:29:05+00:00</td>\n",
       "      <td>['aref', 'akira']</td>\n",
       "      <td>[]</td>\n",
       "    </tr>\n",
       "  </tbody>\n",
       "</table>\n",
       "</div>"
      ],
      "text/plain": [
       "   Unnamed: 0  skeleton_id  treenode_id  parent_node_id  confidence        x  \\\n",
       "0           0      6195521      6196689       6196688.0           5  49479.2   \n",
       "1           1      6195521     13804384      13804385.0           5  48142.2   \n",
       "2           2      6195521     13776295      13804396.0           5  47830.6   \n",
       "3           3      6195521     13804386      13776295.0           5  48161.2   \n",
       "4           4      6195521     13804396      13804397.0           5  48461.4   \n",
       "\n",
       "         y         z  radius creator                last_edited  \\\n",
       "0  74457.2  122850.0    -1.0  albert  2014-04-08 18:03:15+00:00   \n",
       "1  75547.8  123250.0    -1.0    aref  2014-06-25 21:29:05+00:00   \n",
       "2  75475.6  123150.0    -1.0    aref  2014-06-25 21:29:05+00:00   \n",
       "3  75498.4  123150.0    -1.0    aref  2015-04-16 22:58:37+00:00   \n",
       "4  75205.8  123100.0    -1.0    aref  2014-06-25 21:29:05+00:00   \n",
       "\n",
       "           reviewers tags  \n",
       "0  ['aref', 'akira']   []  \n",
       "1  ['aref', 'akira']   []  \n",
       "2  ['aref', 'akira']   []  \n",
       "3  ['aref', 'akira']   []  \n",
       "4  ['aref', 'akira']   []  "
      ]
     },
     "execution_count": 3,
     "metadata": {},
     "output_type": "execute_result"
    }
   ],
   "source": [
    "# Read in some skeleton data for the dbd neuron as a pandas dataframe and look at the general structure of the dataframe using the .head function\n",
    "treenode_table = pd.read_csv('/Users/brandon/documents/Bootcamp2019/treenodes.csv')\n",
    "print(treenode_table.shape)\n",
    "treenode_table.head(5)"
   ]
  },
  {
   "cell_type": "code",
   "execution_count": 4,
   "metadata": {},
   "outputs": [
    {
     "name": "stdout",
     "output_type": "stream",
     "text": [
      "1\n",
      "711\n"
     ]
    }
   ],
   "source": [
    "# Lets make sure we know what we are looking at.  We imported only one neuron.  Neurons in CATAMID are each given a unique identifier called a skeleton ID.  \n",
    "# First, we can make sure we only have a single neuron in our dataframe by making sure we only have one skeleton ID present\n",
    "neuron_count = pd.unique(treenode_table.skeleton_id)\n",
    "print(len(neuron_count))\n",
    "\n",
    "# Next, lets see how big our neuron is.  Each node of a skeleton is given a unique treenode ID.  We can count the number of treenode_IDs to get a rough idea of how big the neuron is\n",
    "sk_node_count = pd.unique(treenode_table.treenode_id)\n",
    "print(len(sk_node_count))"
   ]
  },
  {
   "cell_type": "code",
   "execution_count": 5,
   "metadata": {},
   "outputs": [
    {
     "data": {
      "image/png": "[encoded data removed]",
      "text/plain": [
       "<Figure size 432x288 with 1 Axes>"
      ]
     },
     "metadata": {
      "needs_background": "light"
     },
     "output_type": "display_data"
    }
   ],
   "source": [
    "# The nice thing about dataframes is that we can use intuitive labels to index data.  For example, if we want to see what the neuron looks like,\n",
    "# we can extract the coordinates of the neurons treenodes and plot them.  \n",
    "\n",
    "plt.scatter(treenode_table.x, treenode_table.y*-1 , alpha=0.5)\n",
    "plt.title('Dbd')\n",
    "plt.xlabel('M/L Axis')\n",
    "plt.ylabel('D/V Axis')\n",
    "plt.show()"
   ]
  },
  {
   "cell_type": "code",
   "execution_count": 6,
   "metadata": {},
   "outputs": [
    {
     "name": "stdout",
     "output_type": "stream",
     "text": [
      "   Unnamed: 0  skeleton_id  treenode_id  parent_node_id  confidence        x  \\\n",
      "0           0      6195521      6196689       6196688.0           5  49479.2   \n",
      "1           1      6195521     13804384      13804385.0           5  48142.2   \n",
      "2           2      6195521     13776295      13804396.0           5  47830.6   \n",
      "3           3      6195521     13804386      13776295.0           5  48161.2   \n",
      "4           4      6195521     13804396      13804397.0           5  48461.4   \n",
      "\n",
      "         y         z  radius creator                last_edited  \\\n",
      "0  74457.2  122850.0    -1.0  albert  2014-04-08 18:03:15+00:00   \n",
      "1  75547.8  123250.0    -1.0    aref  2014-06-25 21:29:05+00:00   \n",
      "2  75475.6  123150.0    -1.0    aref  2014-06-25 21:29:05+00:00   \n",
      "3  75498.4  123150.0    -1.0    aref  2015-04-16 22:58:37+00:00   \n",
      "4  75205.8  123100.0    -1.0    aref  2014-06-25 21:29:05+00:00   \n",
      "\n",
      "           reviewers tags  \n",
      "0  ['aref', 'akira']   []  \n",
      "1  ['aref', 'akira']   []  \n",
      "2  ['aref', 'akira']   []  \n",
      "3  ['aref', 'akira']   []  \n",
      "4  ['aref', 'akira']   []  \n",
      "         x        y         z\n",
      "0  49479.2  74457.2  122850.0\n",
      "1  48142.2  75547.8  123250.0\n",
      "2  47830.6  75475.6  123150.0\n",
      "3  48161.2  75498.4  123150.0\n",
      "4  48461.4  75205.8  123100.0\n",
      "5  48647.6  75057.6  123050.0\n"
     ]
    }
   ],
   "source": [
    "# We can also do a bit more complex indexing.  If, for example, we want to index based on location rather than the labels, we use .iloc\n",
    "print(treenode_table.iloc[0:5,:])\n",
    "\n",
    "# We can even combine the two and index with both\n",
    "print(treenode_table.loc[:5,[\"x\", \"y\", \"z\"]])"
   ]
  },
  {
   "cell_type": "code",
   "execution_count": 7,
   "metadata": {},
   "outputs": [],
   "source": [
    "# Now that we have a bit of an understanding of how pandas dataframes work, we can use a similar logic to start working with more complicated data and packages.\n",
    "# The pymaid package was designed for working with skeletonized neuronal data generated in CATMAID.  CATMAID deals in a file format called JSONs.  Pymaid can either\n",
    "# interface directly with CATMAID, or read in JSON files which contain relevant data for neurons.  For this example, we will use JSON files.\n",
    "\n",
    "with open('demo_data.json', 'r') as f:\n",
    "    json_neurons = json.load(f)\n",
    "\n",
    "str_neurons = json.dumps(json_neurons)\n",
    "nl = pymaid.json2neuron(str_neurons)"
   ]
  },
  {
   "cell_type": "code",
   "execution_count": 8,
   "metadata": {},
   "outputs": [
    {
     "data": {
      "text/plain": [
       "<bound method CatmaidNeuronList.summary of <class 'pymaid.core.CatmaidNeuronList'> of 8 neurons \n",
       "   neuron_name skeleton_id  n_nodes  n_connectors  n_branch_nodes  n_end_nodes  \\\n",
       "0     dbd_a1r     6195521      711            80              29           35   \n",
       "1    A08a_a2l    19810511     1824           153             127          140   \n",
       "2     dbd_a2r    13876816      472            32              32           38   \n",
       "3     dbd_a2l    13883895      721            29              30           33   \n",
       "4    A08a_a1l    12820537     1993           171             152          166   \n",
       "5     dbd_a1l    13671419      639            80              27           29   \n",
       "6    A08a_a2r    18435548     1936           176             144          154   \n",
       "7    A08a_a1r    19806174     2604           262             215          234   \n",
       "\n",
       "   open_ends  cable_length review_status   soma  \n",
       "0          2    116.514086            NA  False  \n",
       "1          1    240.598635            NA   True  \n",
       "2         38     77.632921            NA  False  \n",
       "3         33     92.397875            NA  False  \n",
       "4          1    285.821738            NA   True  \n",
       "5          1    109.359300            NA  False  \n",
       "6          2    268.651602            NA   True  \n",
       "7          0    351.814254            NA   True  >"
      ]
     },
     "execution_count": 8,
     "metadata": {},
     "output_type": "execute_result"
    }
   ],
   "source": [
    "# Now that we have a neuron list, we can explore how they are structured.  To start, lets just look at a summary\n",
    "nl.summary\n"
   ]
  },
  {
   "cell_type": "code",
   "execution_count": 9,
   "metadata": {},
   "outputs": [
    {
     "name": "stdout",
     "output_type": "stream",
     "text": [
      "   connector_id  relation skeleton_id  treenode_id      x      y       z\n",
      "0      62174518         0     6195521     14783812  47950  65975  118000\n",
      "1       2708312         0     6195521      2708344  49806  74259  122600\n",
      "2       6196395         0     6195521      6196369  50745  71880  120200\n",
      "3       6196531         0     6195521      6196493  50437  72397  119700\n",
      "4       2717848         0     6195521      6196568  50631  73233  120900\n",
      "5       6196571         0     6195521      6196556  50509  72933  120800\n",
      "6       6196590         0     6195521      6196589  50608  73195  121050\n",
      "7       6196614         0     6195521      6196613  50464  72986  121100\n",
      "8       6197280         0     6195521      6197271  50266  68840  117700\n",
      "9       6197289         0     6195521      6197271  50080  68578  117700\n"
     ]
    },
    {
     "data": {
      "image/png": "[encoded data removed]",
      "text/plain": [
       "<Figure size 432x288 with 1 Axes>"
      ]
     },
     "metadata": {
      "needs_background": "light"
     },
     "output_type": "display_data"
    }
   ],
   "source": [
    "# This summary is a dataframe, but the neuron list itself is a bit more complicated.  It stores a much larger amount of data than what the summary is showing.\n",
    "# For example, the neuron list stores all of the synapse locations for all of the neurons.  \n",
    "print(nl.connectors.head(10))\n",
    "\n",
    "# Whlie these data structures are a bit more complicated, we can think about them, and index them in the same way.  Let's combine a few things to plot the input and output sites for a single neuron.\n",
    "# Notice the column 'relation'.  This column tells us if the connector is for a pre or post synaptic site.  If we index based on this column, we can separate inputs and outputs.  Syntax is 0 for presynapses, 1 for postsynapses.\n",
    "plt.scatter(nl[1].connectors.x[nl[1].connectors.relation == 0], nl[1].connectors.y[nl[1].connectors.relation == 0]*-1 , alpha=0.5,c = 'r')\n",
    "plt.scatter(nl[1].connectors.x[nl[1].connectors.relation == 1], nl[1].connectors.y[nl[1].connectors.relation == 1]*-1 , alpha=0.5, c = 'c')\n",
    "plt.title(nl[1].neuron_name + 'Connectors')\n",
    "plt.xlabel('M/L Axis')\n",
    "plt.ylabel('D/V Axis')\n",
    "plt.show()"
   ]
  },
  {
   "cell_type": "code",
   "execution_count": 10,
   "metadata": {},
   "outputs": [
    {
     "name": "stderr",
     "output_type": "stream",
     "text": [
      "INFO  : Retrieving 1 treenode table(s)... (pymaid)\n",
      "INFO  : 1824 treenodes retrieved. Creating table... (pymaid)\n"
     ]
    },
    {
     "data": {
      "application/vnd.jupyter.widget-view+json": {
       "model_id": "a5be55057f604f81b17c8b362df0300e",
       "version_major": 2,
       "version_minor": 0
      },
      "text/plain": [
       "HBox(children=(IntProgress(value=0, description='Creating table', max=1, style=ProgressStyle(description_width…"
      ]
     },
     "metadata": {},
     "output_type": "display_data"
    },
    {
     "name": "stdout",
     "output_type": "stream",
     "text": [
      "  skeleton_id treenode_id parent_node_id confidence        x        y       z  \\\n",
      "0    19810511    10434535       17136288          5  62046.4    79249  138050   \n",
      "1    19810511    11720917       24915661          5  51258.2  67022.5  133400   \n",
      "2    19810511    12214226       24916283          5  49413.3  68413.3  136300   \n",
      "3    19810511    13293962       17134404          5    51338    68609  134300   \n",
      "4    19810511    13295894       17137630          5  65500.6  71181.6  135900   \n",
      "\n",
      "  radius creator               last_edited  reviewers            tags  \n",
      "0     -1   akira 2018-01-26 13:39:03+00:00  [avinash]  [not a branch]  \n",
      "1     -1    aref 2018-01-25 15:15:35+00:00  [avinash]          [ends]  \n",
      "2     -1    aref 2018-01-26 18:06:38+00:00  [avinash]              []  \n",
      "3     -1   akira 2018-01-26 13:23:58+00:00  [avinash]              []  \n",
      "4     -1   akira 2018-01-25 15:15:35+00:00  [avinash]              []  \n"
     ]
    },
    {
     "data": {
      "image/png": "[encoded data removed]",
      "text/plain": [
       "<Figure size 576x576 with 1 Axes>"
      ]
     },
     "metadata": {
      "needs_background": "light"
     },
     "output_type": "display_data"
    }
   ],
   "source": [
    "#  Now that we have a general idea of how the data is organized, we can do some more complicated plotting.  While a scatterplot of the treenodes is sort of useful for visualization, we can do far more complicated things if we think about\n",
    "# the treenodes as part of a graph structure.  That is, if we consider the relationship between each of them.  \n",
    "treenode_table = pymaid.get_treenode_table(nl[1])\n",
    "print(treenode_table.head(5))\n",
    "# If we look at the treenode table, we see the column with the treenode ids, and another column called parent_node_ids.  These two columns provide the relationship between one treenode and another, and allows us to \n",
    "# build a connected graph representation of the neuron.  We won't go into how exactly to do that today, but we can plot the graph representation of the neuron.  Additionally, we can add the synapses to the same plot.\n",
    "fig, ax = nl[1].plot2d(color='k',connectors=True,cn_size=5)\n"
   ]
  },
  {
   "cell_type": "code",
   "execution_count": null,
   "metadata": {},
   "outputs": [],
   "source": [
    "# The reason using graph structures to represent neurons is useful is because we can then do things like measure geodesic distances between points, cut neurons at different places, segment neurons into meaningful fragments,\n",
    "# and build anatomically enriched wiring diagrams. To demonstrate this, lets cut A08a somewhere.\n",
    "\n",
    "# First, we need to make sure the graph is directed towards a meaninful point so that if we cut it, we will get the pieces we want.  The best option is to reroot the graph at the soma.  \n",
    "\n",
    "nl[1].reroot(nl[1].soma, inplace=True)\n",
    "# Next we need to get the treenode IDs for this neuron in order to get a cut point\n",
    "tn = pymaid.get_treenode_table(nl[1])\n",
    "# Now cut the neuron using the cut_neuron function and plot the results.\n",
    "cut = pymaid.cut_neuron(nl[1], tn.treenode_id[400])\n",
    "fig, ax = pymaid.plot2d(cut, connectors=True, linewidth=1.5, cn_size = 15)\n",
    "fig, ax = pymaid.plot2d(cut[0], connectors=True, linewidth=1.5, cn_size = 15)\n",
    "fig, ax = pymaid.plot2d(cut[1], connectors=True, linewidth=1.5, cn_size = 15)\n",
    "\n",
    "# You can imagine the possibilities of using these tools to look at compartmentalization of inputs, morphological features of different pieces of a neuron, and more."
   ]
  },
  {
   "cell_type": "code",
   "execution_count": null,
   "metadata": {},
   "outputs": [],
   "source": [
    "# Now that we know some basics about plotting and morphology, we can turn our attention to connectivity.  A simple way to do this is to generate a connectivity matrix between the neurons in our dataset.\n",
    "neuron_adj = pymaid.adjacency_matrix(nl)\n",
    "g = sns.heatmap(neuron_adj, square=True)\n",
    "g.set_yticklabels(nl.neuron_name, rotation=0, fontsize=14)\n",
    "g.set_xticklabels(nl.neuron_name, rotation=90, fontsize=14)\n",
    "plt.show()\n",
    "\n"
   ]
  },
  {
   "cell_type": "code",
   "execution_count": 11,
   "metadata": {},
   "outputs": [
    {
     "data": {
      "text/plain": [
       "{'error': \"User 'brandon' with ID 88 does not have the required permissions in project 1\",\n",
       " 'detail': 'Traceback (most recent call last):\\n  File \"/opt/catmaidL1/django/env/lib/python3.6/site-packages/django/core/handlers/base.py\", line 124, in _get_response\\n    response = wrapped_callback(request, *callback_args, **callback_kwargs)\\n  File \"/usr/lib/python3.6/contextlib.py\", line 52, in inner\\n    return func(*args, **kwds)\\n  File \"/opt/catmaidL1/django/applications/catmaid/history.py\", line 63, in wrapped_f\\n    result = f(*args, **kwargs)\\n  File \"/opt/catmaidL1/django/applications/catmaid/control/authentication.py\", line 215, in inner_decorator\\n    raise PermissionError(msg)\\ncatmaid.control.authentication.PermissionError: User \\'brandon\\' with ID 88 does not have the required permissions in project 1\\n',\n",
       " 'type': 'PermissionError',\n",
       " 'meta': None}"
      ]
     },
     "execution_count": 11,
     "metadata": {},
     "output_type": "execute_result"
    }
   ],
   "source": []
  },
  {
   "cell_type": "code",
   "execution_count": null,
   "metadata": {},
   "outputs": [],
   "source": []
  }
 ],
 "metadata": {
  "kernelspec": {
   "display_name": "Python 3",
   "language": "python",
   "name": "python3"
  },
  "language_info": {
   "codemirror_mode": {
    "name": "ipython",
    "version": 3
   },
   "file_extension": ".py",
   "mimetype": "text/x-python",
   "name": "python",
   "nbconvert_exporter": "python",
   "pygments_lexer": "ipython3",
   "version": "3.7.3"
  }
 },
 "nbformat": 4,
 "nbformat_minor": 2
}
