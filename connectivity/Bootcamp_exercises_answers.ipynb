{
 "cells": [
  {
   "cell_type": "code",
   "execution_count": null,
   "metadata": {},
   "outputs": [],
   "source": [
    "# Import relevant packages\n",
    "import pymaid\n",
    "import seaborn as sns\n",
    "import json\n",
    "import pandas as pd\n",
    "import numpy as np\n",
    "import matplotlib\n",
    "import matplotlib.pyplot as plt\n",
    "from mpl_toolkits.mplot3d import Axes3D\n",
    "import csv\n",
    "import sys\n",
    "import CATMAID_CRED\n"
   ]
  },
  {
   "cell_type": "code",
   "execution_count": null,
   "metadata": {},
   "outputs": [],
   "source": [
    "# Initialize CATMAID and load data\n",
    "myInstance = CATMAID_CRED.CATMAID_CRED()\n",
    "with open('demo_data.json', 'r') as f:\n",
    "    json_neurons = json.load(f)\n",
    "\n",
    "str_neurons = json.dumps(json_neurons)\n",
    "nl = pymaid.json2neuron(str_neurons)"
   ]
  },
  {
   "cell_type": "code",
   "execution_count": null,
   "metadata": {
    "scrolled": true
   },
   "outputs": [],
   "source": [
    "# 1a. Plot all of the dbd neurons in red and a08a neurons in black.\n",
    "# first, we need to get the index of the sensory neurons and the interneurons.  One way to do this is to index by if there is a soma present. \n",
    "sensory_index = [i for i,x in enumerate(nl.soma) if not x]\n",
    "interneuron_index = [i for i,x in enumerate(nl.soma) if x]\n",
    "sensory_neurons = nl[sensory_index]\n",
    "interneurons = nl[interneuron_index]\n",
    "\n",
    "fig,ax = pymaid.plot2d([sensory_neurons], connectors=False,linewidth=1.5, method='3d',color = 'r',alpha = .2,figsize = [15,15])\n",
    "fig,ax = pymaid.plot2d([interneurons], ax = ax, connectors=False,linewidth=1.5, method='3d',color = 'k',alpha = .2,figsize = [15,15])"
   ]
  },
  {
   "cell_type": "code",
   "execution_count": null,
   "metadata": {},
   "outputs": [],
   "source": [
    "# 1b. Plot a08as and dbds in black, and plot the synapses from dbds to to a08as in the same segment in green, and intersegmental connections in magenta.  Plot from a dorsal view.\n",
    "# First, get the connectors between all a08a and dbd synapses using pymaid.get_connectors_between.  We have two segments, so four combinations of synapses.\n",
    "\n",
    "cn_table_a1a1 = pymaid.get_connectors_between(sensory_neurons[0,3],interneurons[1,3],directional=True)\n",
    "cn_table_a1a2 = pymaid.get_connectors_between(sensory_neurons[0,3],interneurons[0,2],directional=True)\n",
    "cn_table_a2a2 = pymaid.get_connectors_between(sensory_neurons[1,2],interneurons[0,2],directional=True)\n",
    "cn_table_a2a1 = pymaid.get_connectors_between(sensory_neurons[1,2],interneurons[1,3],directional=True)\n",
    "\n",
    "# First plot dbd and a08a neurons.\n",
    "fig,ax = pymaid.plot2d([sensory_neurons], connectors=False,linewidth=1.5, method='3d',color = 'k',alpha = .2,figsize = [15,15])\n",
    "fig,ax = pymaid.plot2d([interneurons], ax = ax, connectors=False,linewidth=1.5, method='3d',color = 'k',alpha = .2,figsize = [15,15])\n",
    "\n",
    "# Next plot the common synapses on top. Hint: you need to figure out how to convert a dataframe column from a list to an array. Use a for loop to put each coordinate in a list, then conver it to an array.\n",
    "# You can use for loops to restructure. \n",
    "#     conloc_a1_a1 = list()\n",
    "#     for i in range(len(cn_table_a1a1.connector_loc)):\n",
    "#         conloc_a1_a1.append(cn_table_a1a1.connector_loc[i])\n",
    "\n",
    "conloc_a1a1 = cn_table_a1a1.connector_loc.values\n",
    "conloc_a1a1 = [val for sublist in conloc_a1a1 for val in conloc_a1a1]\n",
    "conloc_a2a2 = cn_table_a2a2.connector_loc.values\n",
    "conloc_a2a2 = [val for sublist in conloc_a2a2 for val in conloc_a2a2]\n",
    "conloc_same = np.concatenate([np.array(conloc_a1a1),np.array(conloc_a2a2)])\n",
    "\n",
    "conloc_a1a2 = cn_table_a1a2.connector_loc.values\n",
    "conloc_a1a2  = [val for sublist in conloc_a1a2 for val in conloc_a1a2]\n",
    "conloc_a2a1 = cn_table_a2a1.connector_loc.values\n",
    "conloc_a2a1 = [val for sublist in conloc_a2a1 for val in conloc_a2a1]\n",
    "conloc_inter = np.concatenate([np.array(conloc_a2a1),np.array(conloc_a2a1)])\n",
    "\n",
    "fig,ax = pymaid.plot2d(np.array(conloc_same), method='3d', ax=ax,\n",
    "                       scatter_kws={'s': 20,\n",
    "                                    'color': 'g',\n",
    "                                    'marker': 'D'})\n",
    "\n",
    "fig,ax = pymaid.plot2d(np.array(conloc_inter), method='3d', ax=ax,\n",
    "                       scatter_kws={'s': 20,\n",
    "                                    'color': 'm',\n",
    "                                    'marker': 'D'})\n",
    "                       \n",
    "ax.elev = 90\n",
    "\n"
   ]
  },
  {
   "cell_type": "code",
   "execution_count": 35,
   "metadata": {},
   "outputs": [
    {
     "data": {
      "text/plain": [
       "array([[ 49806.6,  74259.6, 122600. ],\n",
       "       [ 49806.6,  74259.6, 122600. ],\n",
       "       [ 50631.2,  73233.6, 120900. ],\n",
       "       [ 50608.4,  73195.6, 121050. ],\n",
       "       [ 47766. ,  75517.4, 122700. ],\n",
       "       [ 48951.6,  75040.5, 123300. ],\n",
       "       [ 48951.6,  75040.5, 123300. ],\n",
       "       [ 49297.4,  76501.6, 126250. ],\n",
       "       [ 49145.4,  74692.8, 122850. ],\n",
       "       [ 49436.1,  74654.8, 123150. ],\n",
       "       [ 49211.9,  74696.6, 123450. ],\n",
       "       [ 49211.9,  74696.6, 123450. ],\n",
       "       [ 49559.6,  74421.1, 122600. ],\n",
       "       [ 62453. ,  78306.6, 124250. ],\n",
       "       [ 62169.9,  77683.4, 123450. ],\n",
       "       [ 61499.2,  76562.4, 122250. ],\n",
       "       [ 62377. ,  77862. , 122900. ],\n",
       "       [ 62107.2,  78667.6, 125400. ],\n",
       "       [ 61689.2,  78278.1, 125950. ],\n",
       "       [ 62031.2,  78741.7, 125700. ],\n",
       "       [ 62031.2,  78082.4, 124600. ],\n",
       "       [ 62892.8,  78389.3, 123050. ],\n",
       "       [ 62149. ,  79095.1, 124950. ]])"
      ]
     },
     "execution_count": 35,
     "metadata": {},
     "output_type": "execute_result"
    }
   ],
   "source": [
    "\n",
    "    \n"
   ]
  },
  {
   "cell_type": "code",
   "execution_count": null,
   "metadata": {},
   "outputs": [],
   "source": [
    "#1c.  It looks like the dbd in the a2 segment has synapses onto both the A1 and A2 A08a neurons.  Get the connectivity between dbd_a2 and a08a a1/2.\n",
    "dbd = nl[2,3]\n",
    "a08a = nl[6,7,4,1]\n",
    "\n",
    "neuron_adj = pymaid.adjacency_matrix(dbd,a08a)\n",
    "g = sns.heatmap(neuron_adj, square=True)\n",
    "g.set_yticklabels(dbd.neuron_name, rotation=0, fontsize=14)\n",
    "g.set_xticklabels(a08a.neuron_name, rotation=90, fontsize=14)\n",
    "plt.show()"
   ]
  },
  {
   "cell_type": "code",
   "execution_count": null,
   "metadata": {},
   "outputs": [],
   "source": [
    "# 2. Cut out just the lateral and medial dendrites of a08a_a1r. Hint: The sensory neuron vbd makes synapses onto the lateral arbor.  You want to cut at branch points.  Use the functions pymaid.classify_nodes to find branch points and pymaid.dist_between\n",
    "# to measure distances between treenodes.\n",
    "\n",
    "#Get all partners for a08a_a1r\n",
    "neuron = a08a[1]\n",
    "table = pymaid.get_partners(neuron,threshold=3)\n",
    "\n",
    "#Get the connector details for synapses between dbd-a08a and vbd-a08a\n",
    "cn_table_dbd = pymaid.get_connectors_between(table.skeleton_id[0],neuron)\n",
    "cn_table_vbd = pymaid.get_connectors_between(table.skeleton_id[7],neuron)\n",
    "\n",
    "# Classify nodes to get branch indices as well as strahler order\n",
    "neuron = pymaid.classify_nodes(neuron,inplace=False)\n",
    "neuron = pymaid.strahler_index(neuron,inplace=False,min_twig_size=2)\n",
    "\n",
    "# Find the indices for branches and the indices for the backbone.  Use strahler orders > 3 for backbones.\n",
    "branch_index = neuron.nodes.index[neuron.nodes.type == 'branch']\n",
    "backbone_index = neuron.nodes.index[neuron.nodes.strahler_index > 3]\n",
    "branch_backbone_treenodes = np.array(neuron.nodes.treenode_id.loc[branch_index.intersection(backbone_index)])\n",
    "\n",
    "\n",
    "\n"
   ]
  },
  {
   "cell_type": "code",
   "execution_count": null,
   "metadata": {},
   "outputs": [],
   "source": [
    "# Calculate the distances between a dbd and vbd synapse to all treenodes that are branches from the backbone\n",
    "dist_vbd = []\n",
    "dist_dbd = []\n",
    "for i in range(len(branch_backbone_treenodes)):\n",
    "    \n",
    "    dist_vbd.append(pymaid.dist_between(neuron,cn_table_vbd.treenode2_id[0],branch_backbone_treenodes[i]))\n",
    "    dist_dbd.append(pymaid.dist_between(neuron,cn_table_dbd.treenode2_id[0],branch_backbone_treenodes[i]))\n",
    "    \n",
    "dist_vbd = np.array(dist_vbd)\n",
    "dist_dbd = np.array(dist_dbd)\n",
    "\n",
    "# The index for the cutpoint for the lateral dendrite is the branch closest to a vbd synapse.\n",
    "# The index for the cutpoint for the medial dendrite is the branch closest to a dbd synapse.\n",
    "lateral_index = np.where(dist_vbd == min(dist_vbd))\n",
    "medial_index = np.where(dist_dbd == min(dist_dbd))\n",
    "lateral_branch = [branch_backbone_treenodes[np.asscalar(lateral_index[0])]]\n",
    "medial_branch = [branch_backbone_treenodes[np.asscalar(medial_index[0])]]\n",
    "\n",
    "# Cut the neuron at the branch points, and keep everything distal to the cut point.\n",
    "lateral_dendrite = pymaid.cut_neuron(neuron,lateral_branch,ret='distal')\n",
    "medial_dendrite = pymaid.cut_neuron(neuron,medial_branch,ret='distal')"
   ]
  },
  {
   "cell_type": "code",
   "execution_count": null,
   "metadata": {},
   "outputs": [],
   "source": [
    "# Plot the neuron, and the connectors from the lateral dendrite in green and the medial dendrite in magenta.\n",
    "\n",
    "fig,ax = pymaid.plot2d([neuron], connectors=False,linewidth=1.5, method='3d',color = 'k',alpha = .2,figsize = [15,15])\n",
    "fig,ax = pymaid.plot2d(lateral_dendrite,connectors=False,linewidth=2,method='3d',color='g',alpha=.2,ax=ax)\n",
    "fig,ax = pymaid.plot2d(medial_dendrite,connectors=False,linewidth=2,method='3d',color='m',alpha=.2,ax=ax)\n",
    "\n",
    "\n",
    "fig,ax = pymaid.plot2d(lateral_dendrite.connectors[['x','y','z']].values, method='3d', ax=ax,\n",
    "                       scatter_kws={'s': 20,\n",
    "                                    'color': 'g',\n",
    "                                    'marker': 'D'})\n",
    "\n",
    "fig,ax = pymaid.plot2d(medial_dendrite.connectors[['x','y','z']].values, method='3d', ax=ax,\n",
    "                       scatter_kws={'s': 20,\n",
    "                                    'color': 'm',\n",
    "                                    'marker': 'D'})\n",
    "                       \n"
   ]
  },
  {
   "cell_type": "code",
   "execution_count": null,
   "metadata": {},
   "outputs": [],
   "source": []
  },
  {
   "cell_type": "code",
   "execution_count": null,
   "metadata": {},
   "outputs": [],
   "source": []
  },
  {
   "cell_type": "code",
   "execution_count": null,
   "metadata": {},
   "outputs": [],
   "source": []
  }
 ],
 "metadata": {
  "kernelspec": {
   "display_name": "Python 3",
   "language": "python",
   "name": "python3"
  },
  "language_info": {
   "codemirror_mode": {
    "name": "ipython",
    "version": 3
   },
   "file_extension": ".py",
   "mimetype": "text/x-python",
   "name": "python",
   "nbconvert_exporter": "python",
   "pygments_lexer": "ipython3",
   "version": "3.7.3"
  }
 },
 "nbformat": 4,
 "nbformat_minor": 2
}
