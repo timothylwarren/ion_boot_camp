{
 "cells": [
  {
   "cell_type": "code",
   "execution_count": 1,
   "metadata": {},
   "outputs": [
    {
     "name": "stderr",
     "output_type": "stream",
     "text": [
      "WARNING : Optional dependency 'pyoctree' not found. Falling back to Scipy for intersection calculations. This may return incorrect results for concave volumes. You might want to consider installing pyoctree via: pip3 install pyoctree (pymaid)\n"
     ]
    },
    {
     "data": {
      "text/html": [
       "        <script type=\"text/javascript\">\n",
       "        window.PlotlyConfig = {MathJaxConfig: 'local'};\n",
       "        if (window.MathJax) {MathJax.Hub.Config({SVG: {font: \"STIX-Web\"}});}\n",
       "        if (typeof require !== 'undefined') {\n",
       "        require.undef(\"plotly\");\n",
       "        requirejs.config({\n",
       "            paths: {\n",
       "                'plotly': ['https://cdn.plot.ly/plotly-latest.min']\n",
       "            }\n",
       "        });\n",
       "        require(['plotly'], function(Plotly) {\n",
       "            window._Plotly = Plotly;\n",
       "        });\n",
       "        }\n",
       "        </script>\n",
       "        "
      ]
     },
     "metadata": {},
     "output_type": "display_data"
    }
   ],
   "source": [
    "# Import relevant packages\n",
    "import pymaid\n",
    "import seaborn as sns\n",
    "import json\n",
    "import pandas as pd\n",
    "import numpy as np\n",
    "import matplotlib.pyplot as plt\n",
    "from mpl_toolkits.mplot3d import Axes3D\n",
    "import csv\n",
    "import CATMAID_CRED\n"
   ]
  },
  {
   "cell_type": "code",
   "execution_count": 2,
   "metadata": {},
   "outputs": [
    {
     "name": "stderr",
     "output_type": "stream",
     "text": [
      "INFO  : Global CATMAID instance set. Caching is ON. (pymaid)\n"
     ]
    }
   ],
   "source": [
    "# Initialize CATMAID\n",
    "myInstance = CATMAID_CRED.CATMAID_CRED()"
   ]
  },
  {
   "cell_type": "code",
   "execution_count": 3,
   "metadata": {},
   "outputs": [
    {
     "name": "stdout",
     "output_type": "stream",
     "text": [
      "(711, 13)\n"
     ]
    },
    {
     "data": {
      "text/html": [
       "<div>\n",
       "<style scoped>\n",
       "    .dataframe tbody tr th:only-of-type {\n",
       "        vertical-align: middle;\n",
       "    }\n",
       "\n",
       "    .dataframe tbody tr th {\n",
       "        vertical-align: top;\n",
       "    }\n",
       "\n",
       "    .dataframe thead th {\n",
       "        text-align: right;\n",
       "    }\n",
       "</style>\n",
       "<table border=\"1\" class=\"dataframe\">\n",
       "  <thead>\n",
       "    <tr style=\"text-align: right;\">\n",
       "      <th></th>\n",
       "      <th>Unnamed: 0</th>\n",
       "      <th>skeleton_id</th>\n",
       "      <th>treenode_id</th>\n",
       "      <th>parent_node_id</th>\n",
       "      <th>confidence</th>\n",
       "      <th>x</th>\n",
       "      <th>y</th>\n",
       "      <th>z</th>\n",
       "      <th>radius</th>\n",
       "      <th>creator</th>\n",
       "      <th>last_edited</th>\n",
       "      <th>reviewers</th>\n",
       "      <th>tags</th>\n",
       "    </tr>\n",
       "  </thead>\n",
       "  <tbody>\n",
       "    <tr>\n",
       "      <td>0</td>\n",
       "      <td>0</td>\n",
       "      <td>6195521</td>\n",
       "      <td>6196689</td>\n",
       "      <td>6196688.0</td>\n",
       "      <td>5</td>\n",
       "      <td>49479.2</td>\n",
       "      <td>74457.2</td>\n",
       "      <td>122850.0</td>\n",
       "      <td>-1.0</td>\n",
       "      <td>albert</td>\n",
       "      <td>2014-04-08 18:03:15+00:00</td>\n",
       "      <td>['aref', 'akira']</td>\n",
       "      <td>[]</td>\n",
       "    </tr>\n",
       "    <tr>\n",
       "      <td>1</td>\n",
       "      <td>1</td>\n",
       "      <td>6195521</td>\n",
       "      <td>13804384</td>\n",
       "      <td>13804385.0</td>\n",
       "      <td>5</td>\n",
       "      <td>48142.2</td>\n",
       "      <td>75547.8</td>\n",
       "      <td>123250.0</td>\n",
       "      <td>-1.0</td>\n",
       "      <td>aref</td>\n",
       "      <td>2014-06-25 21:29:05+00:00</td>\n",
       "      <td>['aref', 'akira']</td>\n",
       "      <td>[]</td>\n",
       "    </tr>\n",
       "    <tr>\n",
       "      <td>2</td>\n",
       "      <td>2</td>\n",
       "      <td>6195521</td>\n",
       "      <td>13776295</td>\n",
       "      <td>13804396.0</td>\n",
       "      <td>5</td>\n",
       "      <td>47830.6</td>\n",
       "      <td>75475.6</td>\n",
       "      <td>123150.0</td>\n",
       "      <td>-1.0</td>\n",
       "      <td>aref</td>\n",
       "      <td>2014-06-25 21:29:05+00:00</td>\n",
       "      <td>['aref', 'akira']</td>\n",
       "      <td>[]</td>\n",
       "    </tr>\n",
       "    <tr>\n",
       "      <td>3</td>\n",
       "      <td>3</td>\n",
       "      <td>6195521</td>\n",
       "      <td>13804386</td>\n",
       "      <td>13776295.0</td>\n",
       "      <td>5</td>\n",
       "      <td>48161.2</td>\n",
       "      <td>75498.4</td>\n",
       "      <td>123150.0</td>\n",
       "      <td>-1.0</td>\n",
       "      <td>aref</td>\n",
       "      <td>2015-04-16 22:58:37+00:00</td>\n",
       "      <td>['aref', 'akira']</td>\n",
       "      <td>[]</td>\n",
       "    </tr>\n",
       "    <tr>\n",
       "      <td>4</td>\n",
       "      <td>4</td>\n",
       "      <td>6195521</td>\n",
       "      <td>13804396</td>\n",
       "      <td>13804397.0</td>\n",
       "      <td>5</td>\n",
       "      <td>48461.4</td>\n",
       "      <td>75205.8</td>\n",
       "      <td>123100.0</td>\n",
       "      <td>-1.0</td>\n",
       "      <td>aref</td>\n",
       "      <td>2014-06-25 21:29:05+00:00</td>\n",
       "      <td>['aref', 'akira']</td>\n",
       "      <td>[]</td>\n",
       "    </tr>\n",
       "  </tbody>\n",
       "</table>\n",
       "</div>"
      ],
      "text/plain": [
       "   Unnamed: 0  skeleton_id  treenode_id  parent_node_id  confidence        x  \\\n",
       "0           0      6195521      6196689       6196688.0           5  49479.2   \n",
       "1           1      6195521     13804384      13804385.0           5  48142.2   \n",
       "2           2      6195521     13776295      13804396.0           5  47830.6   \n",
       "3           3      6195521     13804386      13776295.0           5  48161.2   \n",
       "4           4      6195521     13804396      13804397.0           5  48461.4   \n",
       "\n",
       "         y         z  radius creator                last_edited  \\\n",
       "0  74457.2  122850.0    -1.0  albert  2014-04-08 18:03:15+00:00   \n",
       "1  75547.8  123250.0    -1.0    aref  2014-06-25 21:29:05+00:00   \n",
       "2  75475.6  123150.0    -1.0    aref  2014-06-25 21:29:05+00:00   \n",
       "3  75498.4  123150.0    -1.0    aref  2015-04-16 22:58:37+00:00   \n",
       "4  75205.8  123100.0    -1.0    aref  2014-06-25 21:29:05+00:00   \n",
       "\n",
       "           reviewers tags  \n",
       "0  ['aref', 'akira']   []  \n",
       "1  ['aref', 'akira']   []  \n",
       "2  ['aref', 'akira']   []  \n",
       "3  ['aref', 'akira']   []  \n",
       "4  ['aref', 'akira']   []  "
      ]
     },
     "execution_count": 3,
     "metadata": {},
     "output_type": "execute_result"
    }
   ],
   "source": [
    "# A useful feature of pandas is that you can read CSV files directly into a dataframe.  Depending on how your data is organized, you may need to do more complicated parsing, but for our data, it's simple.\n",
    "# Read in some skeleton data for the dbd neuron as a pandas dataframe and look at the general structure of the dataframe using the .head function.\n",
    "\n",
    "treenode_table = pd.read_csv('treenodes.csv')\n",
    "print(treenode_table.shape)\n",
    "treenode_table.head(5)"
   ]
  },
  {
   "cell_type": "code",
   "execution_count": null,
   "metadata": {},
   "outputs": [],
   "source": [
    "# Lets make sure we know what we are looking at.  We imported only one neuron.  Neurons in CATAMID are each given a unique identifier called a skeleton ID.  \n",
    "# First, we can make sure we only have a single neuron in our dataframe by making sure we only have one skeleton ID present.\n",
    "neuron_count = pd.unique(treenode_table.skeleton_id)\n",
    "print(len(neuron_count))\n",
    "\n",
    "# Next, lets see how big our neuron is.  Each node of a skeleton is given a unique treenode ID.  We can count the number of treenode_IDs to get a rough idea of how big the neuron is.\n",
    "sk_node_count = pd.unique(treenode_table.treenode_id)\n",
    "print(len(sk_node_count))"
   ]
  },
  {
   "cell_type": "code",
   "execution_count": 4,
   "metadata": {},
   "outputs": [
    {
     "data": {
      "image/png": "[encoded data removed]",
      "text/plain": [
       "<Figure size 432x288 with 1 Axes>"
      ]
     },
     "metadata": {
      "needs_background": "light"
     },
     "output_type": "display_data"
    }
   ],
   "source": [
    "# The nice thing about dataframes is that we can use intuitive labels to index data.  For example, if we want to see what the neuron looks like,\n",
    "# we can extract the coordinates of the neurons treenodes and plot them.  \n",
    "\n",
    "plt.scatter(treenode_table.x, treenode_table.y*-1 , alpha=0.5)\n",
    "plt.title('Dbd')\n",
    "plt.xlabel('M/L Axis')\n",
    "plt.ylabel('D/V Axis')\n",
    "plt.show()"
   ]
  },
  {
   "cell_type": "code",
   "execution_count": 5,
   "metadata": {},
   "outputs": [
    {
     "name": "stdout",
     "output_type": "stream",
     "text": [
      "   Unnamed: 0  skeleton_id  treenode_id  parent_node_id  confidence        x  \\\n",
      "0           0      6195521      6196689       6196688.0           5  49479.2   \n",
      "1           1      6195521     13804384      13804385.0           5  48142.2   \n",
      "2           2      6195521     13776295      13804396.0           5  47830.6   \n",
      "3           3      6195521     13804386      13776295.0           5  48161.2   \n",
      "4           4      6195521     13804396      13804397.0           5  48461.4   \n",
      "\n",
      "         y         z  radius creator                last_edited  \\\n",
      "0  74457.2  122850.0    -1.0  albert  2014-04-08 18:03:15+00:00   \n",
      "1  75547.8  123250.0    -1.0    aref  2014-06-25 21:29:05+00:00   \n",
      "2  75475.6  123150.0    -1.0    aref  2014-06-25 21:29:05+00:00   \n",
      "3  75498.4  123150.0    -1.0    aref  2015-04-16 22:58:37+00:00   \n",
      "4  75205.8  123100.0    -1.0    aref  2014-06-25 21:29:05+00:00   \n",
      "\n",
      "           reviewers tags  \n",
      "0  ['aref', 'akira']   []  \n",
      "1  ['aref', 'akira']   []  \n",
      "2  ['aref', 'akira']   []  \n",
      "3  ['aref', 'akira']   []  \n",
      "4  ['aref', 'akira']   []  \n"
     ]
    }
   ],
   "source": [
    "# We can also do a bit more complex indexing.  If, for example, we want to index based on location rather than the labels, we use .iloc\n",
    "print(treenode_table.iloc[0:5,:])\n",
    "\n"
   ]
  },
  {
   "cell_type": "code",
   "execution_count": null,
   "metadata": {},
   "outputs": [],
   "source": [
    "# We can even combine the two and index with both\n",
    "print(treenode_table.loc[0:5,[\"x\", \"y\", \"z\"]])"
   ]
  },
  {
   "cell_type": "code",
   "execution_count": null,
   "metadata": {},
   "outputs": [],
   "source": [
    "# Now that we have a bit of an understanding of how pandas dataframes work, we can use a similar logic to start working with more complicated data and packages.\n",
    "# The pymaid package was designed for working with skeletonized neuronal data generated in CATMAID.  CATMAID deals in a file format called JSONs.  Pymaid can either\n",
    "# interface directly with CATMAID, or read in JSON files which contain relevant data for neurons.  For this example, we will use JSON files.\n",
    "\n",
    "with open('demo_data.json', 'r') as f:\n",
    "    json_neurons = json.load(f)\n",
    "\n",
    "str_neurons = json.dumps(json_neurons)\n",
    "nl = pymaid.json2neuron(str_neurons)"
   ]
  },
  {
   "cell_type": "code",
   "execution_count": null,
   "metadata": {},
   "outputs": [],
   "source": [
    "# Now that we have a neuron list, we can explore how they are structured.  To start, lets just look at a summary\n",
    "nl.summary\n"
   ]
  },
  {
   "cell_type": "code",
   "execution_count": null,
   "metadata": {},
   "outputs": [],
   "source": [
    "# This summary is a dataframe, but the neuron list itself is a bit more complicated.  It stores a much larger amount of data than what the summary is showing.\n",
    "# For example, the neuron list stores all of the synapse locations for all of the neurons.  \n",
    "print(nl.connectors.head(10))\n",
    "\n"
   ]
  },
  {
   "cell_type": "code",
   "execution_count": null,
   "metadata": {},
   "outputs": [],
   "source": [
    "# Whlie these data structures are a bit more complicated, we can think about them, and index them in the same way.  Let's combine a few things to plot the input and output sites for a single neuron.\n",
    "# Notice the column 'relation'.  This column tells us if the connector is for a pre or post synaptic site.  If we index based on this column, we can separate inputs and outputs.  Syntax is 0 for presynapses, 1 for postsynapses.\n",
    "plt.scatter(nl[1].connectors.x[nl[1].connectors.relation == 0], nl[1].connectors.y[nl[1].connectors.relation == 0]*-1 , alpha=0.5,c = 'r')\n",
    "plt.scatter(nl[1].connectors.x[nl[1].connectors.relation == 1], nl[1].connectors.y[nl[1].connectors.relation == 1]*-1 , alpha=0.5, c = 'c')\n",
    "plt.title(nl[1].neuron_name + 'Connectors')\n",
    "plt.xlabel('M/L Axis')\n",
    "plt.ylabel('D/V Axis')\n",
    "plt.show()"
   ]
  },
  {
   "cell_type": "code",
   "execution_count": null,
   "metadata": {},
   "outputs": [],
   "source": [
    "#  Now that we have a general idea of how the data is organized, we can do some more complicated plotting.  While a scatterplot of the treenodes is sort of useful for visualization, we can do far more complicated things if we think about\n",
    "# the treenodes as part of a graph structure.  That is, if we consider the relationship between each of them.  H\n",
    "treenode_table = nl[1].nodes\n",
    "print(treenode_table.head(5))\n",
    "\n"
   ]
  },
  {
   "cell_type": "code",
   "execution_count": null,
   "metadata": {},
   "outputs": [],
   "source": [
    "# If we look at the treenode table, we see the column with the treenode ids, and another column called parent_node_ids.  These two columns provide the relationship between one treenode and another, and allows us to \n",
    "# build a connected graph representation of the neuron.  We won't go into how exactly to do that today, but we can plot the graph representation of the neuron.  There is a special graph function built into the \n",
    "# pymaid package that allows us to plot these graph structures, as well as some other cool options like adding synapses.\n",
    "fig, ax = nl[1].plot2d(color='k',connectors=True,cn_size=15,figsize = [15,15])"
   ]
  },
  {
   "cell_type": "code",
   "execution_count": null,
   "metadata": {},
   "outputs": [],
   "source": [
    "# The reason using graph structures to represent neurons is useful is because we can then do things like measure geodesic distances between points, cut neurons at different places, segment neurons into meaningful fragments,\n",
    "# and build anatomically enriched wiring diagrams. To demonstrate this, lets cut A08a somewhere.\n",
    "\n",
    "# First, we need to make sure the graph is directed towards a meaninful point so that if we cut it, we will get the pieces we want.  The best option is to reroot the graph at the soma.  \n",
    "\n",
    "nl[1].reroot(nl[1].soma, inplace=True)\n",
    "# Next we need to get the treenode IDs for this neuron in order to get a cut point\n",
    "tn = pymaid.get_treenode_table(nl[1])\n",
    "# Now cut the neuron using the cut_neuron function and plot the results.\n",
    "cut = pymaid.cut_neuron(nl[1], tn.treenode_id[400])\n",
    "fig, ax = pymaid.plot2d(cut, connectors=True, linewidth=1.5, cn_size = 15)\n",
    "fig, ax = pymaid.plot2d(cut[0], connectors=True, linewidth=1.5, cn_size = 15)\n",
    "fig, ax = pymaid.plot2d(cut[1], connectors=True, linewidth=1.5, cn_size = 15)\n",
    "\n",
    "# You can imagine the possibilities of using these tools to look at compartmentalization of inputs, \n",
    "# morphological features of different pieces of a neuron, and more."
   ]
  },
  {
   "cell_type": "code",
   "execution_count": null,
   "metadata": {},
   "outputs": [],
   "source": [
    "# For example, the cut point I specified is more or less a rough approximation of the axon and dendrite. If we were interested inputs onto A08a that are axo-axonic, we could cut the neuron to separate the axon, and then get all inputs onto just the axon portion.\n",
    "axon = cut[0]\n",
    "cn_table_axon = pymaid.cn_table_from_connectors(axon)\n",
    "cn_table_axon = cn_table_axon[cn_table_axon.relation == 'upstream']\n",
    "axonic_inputs = pymaid.get_neurons(np.array(cn_table_axon.skeleton_id))\n",
    "axonic_inputs = axonic_inputs[axonic_inputs.n_nodes > 1]\n",
    "fig,ax = pymaid.plot2d(axonic_inputs,color = 'r',figsize = [15,15],alpha = .25)\n",
    "ax = pymaid.plot2d(cut,color = 'b',ax=ax)"
   ]
  },
  {
   "cell_type": "code",
   "execution_count": null,
   "metadata": {},
   "outputs": [],
   "source": [
    "# Now that we know some basics about plotting and morphology, we can turn our attention to connectivity.  A simple way to do this is to generate a connectivity matrix between the neurons in our dataset.\n",
    "neuron_adj = pymaid.adjacency_matrix(nl)\n",
    "g = sns.heatmap(neuron_adj, square=True)\n",
    "g.set_yticklabels(nl.neuron_name, rotation=0, fontsize=14)\n",
    "g.set_xticklabels(nl.neuron_name, rotation=90, fontsize=14)\n",
    "plt.show()\n",
    "\n",
    "g2 = sns.heatmap(neuron_adj+np.transpose(neuron_adj), square=True)\n",
    "g2.set_yticklabels(nl.neuron_name, rotation=0, fontsize=14)\n",
    "g2.set_xticklabels(nl.neuron_name, rotation=90, fontsize=14)\n",
    "plt.show()\n",
    "\n",
    "# Often times, the number of synapses does not necessarily mean very much.  Neurons with large dendrites and lots of inputs will respond differently to a single input than small neurons with few inputs.\n",
    "# Therefore it is often useful to calculate the number of synapses "
   ]
  },
  {
   "cell_type": "code",
   "execution_count": null,
   "metadata": {},
   "outputs": [],
   "source": [
    "neuron = nl[1]\n",
    "neuron = pymaid.strahler_index(nl[1],inplace=False)\n",
    "index_1 = neuron.nodes.treenode_id.loc[neuron.nodes.strahler_index == 1]\n",
    "index_2 = neuron.nodes.treenode_id.loc[neuron.nodes.strahler_index == 2]\n",
    "index_3 = neuron.nodes.treenode_id.loc[neuron.nodes.strahler_index == 3]\n",
    "index_4 = neuron.nodes.treenode_id.loc[neuron.nodes.strahler_index == 4]\n",
    "index_5 = neuron.nodes.treenode_id.loc[neuron.nodes.strahler_index == 5]"
   ]
  },
  {
   "cell_type": "code",
   "execution_count": null,
   "metadata": {},
   "outputs": [],
   "source": [
    "s1 = pymaid.subset_neuron(neuron,np.array(index_1))\n",
    "s2 = pymaid.subset_neuron(neuron,np.array(index_2))\n",
    "s3 = pymaid.subset_neuron(neuron,np.array(index_3))\n",
    "s4 = pymaid.subset_neuron(neuron,np.array(index_4))\n",
    "s5 = pymaid.subset_neuron(neuron,np.array(index_5))"
   ]
  },
  {
   "cell_type": "code",
   "execution_count": null,
   "metadata": {},
   "outputs": [],
   "source": [
    "fig, ax = pymaid.plot2d(s5, connectors=False, linewidth=2.5,color = 'k',figsize = [15,15])\n",
    "fig, ax = pymaid.plot2d(s1, connectors=False, linewidth=2.5,color = 'r',figsize = [15,15], ax = ax)\n",
    "fig, ax = pymaid.plot2d(s2, connectors=False, linewidth=2.5,color = 'y',figsize = [15,15], ax = ax)\n",
    "fig, ax = pymaid.plot2d(s3, connectors=False, linewidth=2.5,color = 'g',figsize = [15,15], ax = ax)\n",
    "fig, ax = pymaid.plot2d(s4, connectors=False, linewidth=2.5,color = 'b',figsize = [15,15], ax = ax)\n",
    "\n",
    "\n"
   ]
  },
  {
   "cell_type": "code",
   "execution_count": null,
   "metadata": {},
   "outputs": [],
   "source": []
  },
  {
   "cell_type": "code",
   "execution_count": null,
   "metadata": {},
   "outputs": [],
   "source": []
  },
  {
   "cell_type": "code",
   "execution_count": null,
   "metadata": {},
   "outputs": [],
   "source": []
  },
  {
   "cell_type": "code",
   "execution_count": null,
   "metadata": {},
   "outputs": [],
   "source": []
  }
 ],
 "metadata": {
  "kernelspec": {
   "display_name": "Python 3",
   "language": "python",
   "name": "python3"
  },
  "language_info": {
   "codemirror_mode": {
    "name": "ipython",
    "version": 3
   },
   "file_extension": ".py",
   "mimetype": "text/x-python",
   "name": "python",
   "nbconvert_exporter": "python",
   "pygments_lexer": "ipython3",
   "version": "3.7.1"
  }
 },
 "nbformat": 4,
 "nbformat_minor": 2
}
